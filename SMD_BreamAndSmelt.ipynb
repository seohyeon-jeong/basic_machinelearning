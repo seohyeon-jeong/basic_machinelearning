{
  "nbformat": 4,
  "nbformat_minor": 0,
  "metadata": {
    "colab": {
      "name": "SMD_BreamAndSmelt.ipynb",
      "provenance": [],
      "collapsed_sections": [],
      "toc_visible": true,
      "authorship_tag": "ABX9TyN72W+ThY/Jupbt1c4Kr0iX",
      "include_colab_link": true
    },
    "kernelspec": {
      "name": "python3",
      "display_name": "Python 3"
    }
  },
  "cells": [
    {
      "cell_type": "markdown",
      "metadata": {
        "id": "view-in-github",
        "colab_type": "text"
      },
      "source": [
        "<a href=\"https://colab.research.google.com/github/seohyeon-jeong/basic_machinelearning/blob/main/SMD_BreamAndSmelt.ipynb\" target=\"_parent\"><img src=\"https://colab.research.google.com/assets/colab-badge.svg\" alt=\"Open In Colab\"/></a>"
      ]
    },
    {
      "cell_type": "markdown",
      "metadata": {
        "id": "Zw-w1OzdzU1q"
      },
      "source": [
        "### k-최근접 이웃 방법을 활용한 이진분류 문제 "
      ]
    },
    {
      "cell_type": "code",
      "metadata": {
        "id": "vLXNhfaLFvt6"
      },
      "source": [
        "# 도미의 길이와 무게 \n",
        "bream_length = [25.4, 26.3, 26.5, 29.0, 29.0, 29.7, 29.7, 30.0, 30.0, 30.7, 31.0, 31.0, \n",
        "                31.5, 32.0, 32.0, 32.0, 33.0, 33.0, 33.5, 33.5, 34.0, 34.0, 34.5, 35.0, \n",
        "                35.0, 35.0, 35.0, 36.0, 36.0, 37.0, 38.5, 38.5, 39.5, 41.0, 41.0]\n",
        "bream_weight = [242.0, 290.0, 340.0, 363.0, 430.0, 450.0, 500.0, 390.0, 450.0, 500.0, 475.0, 500.0, \n",
        "                500.0, 340.0, 600.0, 600.0, 700.0, 700.0, 610.0, 650.0, 575.0, 685.0, 620.0, 680.0, \n",
        "                700.0, 725.0, 720.0, 714.0, 850.0, 1000.0, 920.0, 955.0, 925.0, 975.0, 950.0]"
      ],
      "execution_count": null,
      "outputs": []
    },
    {
      "cell_type": "code",
      "metadata": {
        "colab": {
          "base_uri": "https://localhost:8080/",
          "height": 279
        },
        "id": "hv_sIMiZGSLa",
        "outputId": "f065cfe3-23f2-465d-bcb8-013b70a1f892"
      },
      "source": [
        "# pyplot : 과학 계산용 그래프를 그리는 대표적인 패캐지 \n",
        "import matplotlib.pyplot as plt\n",
        "\n",
        "plt.scatter(bream_length, bream_weight)\n",
        "plt.xlabel('length') # plt.xlabel() : x축 이름 정의\n",
        "plt.ylabel('weight') # plt.ylabel() : y축 이름 정의\n",
        "plt.show() # 준비된 그래프를 화면에 출력"
      ],
      "execution_count": null,
      "outputs": [
        {
          "output_type": "display_data",
          "data": {
            "image/png": "[encoded data removed]",
            "text/plain": [
              "<Figure size 432x288 with 1 Axes>"
            ]
          },
          "metadata": {
            "tags": [],
            "needs_background": "light"
          }
        }
      ]
    },
    {
      "cell_type": "code",
      "metadata": {
        "id": "9uEgDoZTG-ol"
      },
      "source": [
        "# 빙어의 무게와 길이\n",
        "smelt_length = [9.8, 10.5, 10.6, 11.0, 11.2, 11.3, 11.8, 11.8, 12.0, 12.2, 12.4, 13.0, 14.3, 15.0]\n",
        "smelt_weight = [6.7, 7.5, 7.0, 9.7, 9.8, 8.7, 10.0, 9.9, 9.8, 12.2, 13.4, 12.2, 19.7, 19.9]"
      ],
      "execution_count": null,
      "outputs": []
    },
    {
      "cell_type": "code",
      "metadata": {
        "colab": {
          "base_uri": "https://localhost:8080/",
          "height": 279
        },
        "id": "9aufboyPHCou",
        "outputId": "f20d4a3f-090b-4a71-9c8d-a78551a2e7ca"
      },
      "source": [
        "plt.scatter(bream_length,bream_weight)\n",
        "plt.scatter(smelt_length,smelt_weight) # 연속해서 plt.scatter()을 써주는 것만으로도 두개의 산점도가 같이 표기된다\n",
        "plt.xlabel('length')\n",
        "plt.ylabel('weight')\n",
        "plt.show()"
      ],
      "execution_count": null,
      "outputs": [
        {
          "output_type": "display_data",
          "data": {
            "image/png": "[encoded data removed]",
            "text/plain": [
              "<Figure size 432x288 with 1 Axes>"
            ]
          },
          "metadata": {
            "tags": [],
            "needs_background": "light"
          }
        }
      ]
    },
    {
      "cell_type": "code",
      "metadata": {
        "id": "hvJqWn9kH6EU"
      },
      "source": [
        "# 두 리스트를 합치기 : 리스트 + 리스트\n",
        "length = bream_length + smelt_length\n",
        "weight = bream_weight + smelt_weight"
      ],
      "execution_count": null,
      "outputs": []
    },
    {
      "cell_type": "code",
      "metadata": {
        "colab": {
          "base_uri": "https://localhost:8080/"
        },
        "id": "EfQqQh0-IS1u",
        "outputId": "ca732c27-833a-4be9-f107-f6d5635cd5ff"
      },
      "source": [
        "# 사이킷런을 사용하려면 2차원 리스트의 형태여야 한다.\n",
        "# 일차원 리스트를 2차원 리스트로 변경 => zip()함수 와 리스트의 내포list comprehension 사용\n",
        "fish_data = [[l,w] for l, w in zip(length, weight)] # zip() : 나열된 리스트에서 원소를 하나씩 꺼내주는 역할을 한다. \n",
        "print(fish_data)"
      ],
      "execution_count": null,
      "outputs": [
        {
          "output_type": "stream",
          "text": [
            "[[25.4, 242.0], [26.3, 290.0], [26.5, 340.0], [29.0, 363.0], [29.0, 430.0], [29.7, 450.0], [29.7, 500.0], [30.0, 390.0], [30.0, 450.0], [30.7, 500.0], [31.0, 475.0], [31.0, 500.0], [31.5, 500.0], [32.0, 340.0], [32.0, 600.0], [32.0, 600.0], [33.0, 700.0], [33.0, 700.0], [33.5, 610.0], [33.5, 650.0], [34.0, 575.0], [34.0, 685.0], [34.5, 620.0], [35.0, 680.0], [35.0, 700.0], [35.0, 725.0], [35.0, 720.0], [36.0, 714.0], [36.0, 850.0], [37.0, 1000.0], [38.5, 920.0], [38.5, 955.0], [39.5, 925.0], [41.0, 975.0], [41.0, 950.0], [9.8, 6.7], [10.5, 7.5], [10.6, 7.0], [11.0, 9.7], [11.2, 9.8], [11.3, 8.7], [11.8, 10.0], [11.8, 9.9], [12.0, 9.8], [12.2, 12.2], [12.4, 13.4], [13.0, 12.2], [14.3, 19.7], [15.0, 19.9]]\n"
          ],
          "name": "stdout"
        }
      ]
    },
    {
      "cell_type": "code",
      "metadata": {
        "colab": {
          "base_uri": "https://localhost:8080/"
        },
        "id": "nPM6jLnYI2Pd",
        "outputId": "f0d4f436-6241-40d6-f1cc-2cf14421dd0a"
      },
      "source": [
        "# 머신러닝을 정답데이터가 필요하다. 그래야 기계가 이진분류를 위해 분류의 기준을 학습하니까\n",
        "fish_target = [1]*35 + [0]*14 # 찾으려는 대상인 도미 : 1\n",
        "print(fish_target)"
      ],
      "execution_count": null,
      "outputs": [
        {
          "output_type": "stream",
          "text": [
            "[1, 1, 1, 1, 1, 1, 1, 1, 1, 1, 1, 1, 1, 1, 1, 1, 1, 1, 1, 1, 1, 1, 1, 1, 1, 1, 1, 1, 1, 1, 1, 1, 1, 1, 1, 0, 0, 0, 0, 0, 0, 0, 0, 0, 0, 0, 0, 0, 0]\n"
          ],
          "name": "stdout"
        }
      ]
    },
    {
      "cell_type": "code",
      "metadata": {
        "id": "1hGTmnmRJjP9"
      },
      "source": [
        "# K-Nearest Neighbors K-최근접 이웃 알고리즘을 구현하기 위해 클래스 import\n",
        "from sklearn.neighbors import KNeighborsClassifier # 패캐지나 모듈 전체를 임포트 하지 않고 특정 클래스만 임포트 하려면 from...import로 사용한다.\n",
        "\n",
        "# import sklearn\n",
        "# model = sklearn.neighbors.KNeighborsClassifier"
      ],
      "execution_count": null,
      "outputs": []
    },
    {
      "cell_type": "code",
      "metadata": {
        "id": "nk0Tnc6pKORz"
      },
      "source": [
        "kn = KNeighborsClassifier() # 임포트한 KNeighborsClassifier 클래스의 객체를 먼저 만든다"
      ],
      "execution_count": null,
      "outputs": []
    },
    {
      "cell_type": "code",
      "metadata": {
        "colab": {
          "base_uri": "https://localhost:8080/"
        },
        "id": "6Wk3HbtSKY8P",
        "outputId": "d742288a-9464-4fa1-90c4-51b042c105fb"
      },
      "source": [
        "# 객체에 fish_data와 fish_target을 전달하여 도미를 찾기 위한 기준을 학습시킨다. -> Training\n",
        "# 훈련 : 모델에 데이터를 전달하여 규칙을 학습시키는 과정 \n",
        "# 모델 : 머신러닝 알고리즘을 구현한 프로그램이나 알고리즘을 구체화해서 표현한 것\n",
        "\n",
        "# fit(training data, target data) : 모델을 훈련시키는 과정 \n",
        "kn.fit(fish_data, fish_target) # KNeighborsClassifier Class의 \"_fit_X속성\"에 fish_data, \"_y속성\"에 fish_target"
      ],
      "execution_count": null,
      "outputs": [
        {
          "output_type": "execute_result",
          "data": {
            "text/plain": [
              "KNeighborsClassifier(algorithm='auto', leaf_size=30, metric='minkowski',\n",
              "                     metric_params=None, n_jobs=None, n_neighbors=5, p=2,\n",
              "                     weights='uniform')"
            ]
          },
          "metadata": {
            "tags": []
          },
          "execution_count": 10
        }
      ]
    },
    {
      "cell_type": "code",
      "metadata": {
        "colab": {
          "base_uri": "https://localhost:8080/"
        },
        "id": "aimOcqrsKvn4",
        "outputId": "6ece71f9-677a-45a2-efb1-ecad6b994806"
      },
      "source": [
        "# score() : 모델을 평가하는 함수\n",
        "kn.score(fish_data, fish_target) # score()함수의 출력값을 Accuracy 정확도 라고 한다"
      ],
      "execution_count": null,
      "outputs": [
        {
          "output_type": "execute_result",
          "data": {
            "text/plain": [
              "1.0"
            ]
          },
          "metadata": {
            "tags": []
          },
          "execution_count": 11
        }
      ]
    },
    {
      "cell_type": "markdown",
      "metadata": {
        "id": "9au3CWo3pn8z"
      },
      "source": [
        "* k-Nearest Neighbors Algorithm  \n",
        " 어떤 데이터에 대한 답을 구할 때 주위의 다른 데이터(참고 데이터 개수:k개, 디폴트는 5개)를 참고하여 다수를 차지하는 것을 정답으로 사용  \n",
        " 단점) 데이터가 아주 많은 경우에는 메모리가 많이 필요하고 직선거리 계산하는데 많은 시간이 소요"
      ]
    },
    {
      "cell_type": "code",
      "metadata": {
        "colab": {
          "base_uri": "https://localhost:8080/"
        },
        "id": "fGFbF7SYK59B",
        "outputId": "957cc56a-e80c-4a11-dac3-0aabe9a05d85"
      },
      "source": [
        "# predict(new;test data) : 새로운 데이터의 정답 예측\n",
        "kn.predict([[30,600]])"
      ],
      "execution_count": null,
      "outputs": [
        {
          "output_type": "execute_result",
          "data": {
            "text/plain": [
              "array([1])"
            ]
          },
          "metadata": {
            "tags": []
          },
          "execution_count": 12
        }
      ]
    },
    {
      "cell_type": "code",
      "metadata": {
        "colab": {
          "base_uri": "https://localhost:8080/"
        },
        "id": "arvKsSYNqB_P",
        "outputId": "b2af7af5-a5a6-4355-a782-fb3e4696094b"
      },
      "source": [
        "print(kn._fit_X)"
      ],
      "execution_count": null,
      "outputs": [
        {
          "output_type": "stream",
          "text": [
            "[[  25.4  242. ]\n",
            " [  26.3  290. ]\n",
            " [  26.5  340. ]\n",
            " [  29.   363. ]\n",
            " [  29.   430. ]\n",
            " [  29.7  450. ]\n",
            " [  29.7  500. ]\n",
            " [  30.   390. ]\n",
            " [  30.   450. ]\n",
            " [  30.7  500. ]\n",
            " [  31.   475. ]\n",
            " [  31.   500. ]\n",
            " [  31.5  500. ]\n",
            " [  32.   340. ]\n",
            " [  32.   600. ]\n",
            " [  32.   600. ]\n",
            " [  33.   700. ]\n",
            " [  33.   700. ]\n",
            " [  33.5  610. ]\n",
            " [  33.5  650. ]\n",
            " [  34.   575. ]\n",
            " [  34.   685. ]\n",
            " [  34.5  620. ]\n",
            " [  35.   680. ]\n",
            " [  35.   700. ]\n",
            " [  35.   725. ]\n",
            " [  35.   720. ]\n",
            " [  36.   714. ]\n",
            " [  36.   850. ]\n",
            " [  37.  1000. ]\n",
            " [  38.5  920. ]\n",
            " [  38.5  955. ]\n",
            " [  39.5  925. ]\n",
            " [  41.   975. ]\n",
            " [  41.   950. ]\n",
            " [   9.8    6.7]\n",
            " [  10.5    7.5]\n",
            " [  10.6    7. ]\n",
            " [  11.     9.7]\n",
            " [  11.2    9.8]\n",
            " [  11.3    8.7]\n",
            " [  11.8   10. ]\n",
            " [  11.8    9.9]\n",
            " [  12.     9.8]\n",
            " [  12.2   12.2]\n",
            " [  12.4   13.4]\n",
            " [  13.    12.2]\n",
            " [  14.3   19.7]\n",
            " [  15.    19.9]]\n"
          ],
          "name": "stdout"
        }
      ]
    },
    {
      "cell_type": "code",
      "metadata": {
        "colab": {
          "base_uri": "https://localhost:8080/"
        },
        "id": "urk86iI6rW2q",
        "outputId": "dd6f456a-53e2-45c6-c25a-0e86e9de30b9"
      },
      "source": [
        "print(kn._y)"
      ],
      "execution_count": null,
      "outputs": [
        {
          "output_type": "stream",
          "text": [
            "[1 1 1 1 1 1 1 1 1 1 1 1 1 1 1 1 1 1 1 1 1 1 1 1 1 1 1 1 1 1 1 1 1 1 1 0 0\n",
            " 0 0 0 0 0 0 0 0 0 0 0 0]\n"
          ],
          "name": "stdout"
        }
      ]
    },
    {
      "cell_type": "code",
      "metadata": {
        "id": "rU0BGk8lrpzj"
      },
      "source": [
        "# 참고데이터를 49개로 한 kn49모델\n",
        "kn49 = KNeighborsClassifier(n_neighbors=49)"
      ],
      "execution_count": null,
      "outputs": []
    },
    {
      "cell_type": "code",
      "metadata": {
        "colab": {
          "base_uri": "https://localhost:8080/"
        },
        "id": "zThSQ6tgsO26",
        "outputId": "2f3223e9-d7f0-4cc7-ca77-2653a2a2fbbb"
      },
      "source": [
        "kn49.fit(fish_data, fish_target)\n",
        "kn49.score(fish_data, fish_target)\n",
        "# 직선거리가 가장 짧은 참고 데이터 49개중에 35개가 도미고, 빙어가 14개"
      ],
      "execution_count": null,
      "outputs": [
        {
          "output_type": "execute_result",
          "data": {
            "text/plain": [
              "0.7142857142857143"
            ]
          },
          "metadata": {
            "tags": []
          },
          "execution_count": 16
        }
      ]
    },
    {
      "cell_type": "code",
      "metadata": {
        "colab": {
          "base_uri": "https://localhost:8080/"
        },
        "id": "cf2XiWNesYwZ",
        "outputId": "d783eed2-04e2-4104-dca1-7b55685c5f69"
      },
      "source": [
        "print(35/49)"
      ],
      "execution_count": null,
      "outputs": [
        {
          "output_type": "stream",
          "text": [
            "0.7142857142857143\n"
          ],
          "name": "stdout"
        }
      ]
    },
    {
      "cell_type": "code",
      "metadata": {
        "colab": {
          "base_uri": "https://localhost:8080/"
        },
        "id": "aS5YnMrys-Hy",
        "outputId": "b8e32954-0ecd-4a29-cbf7-a499dacfb30c"
      },
      "source": [
        "# 기본값 5부터 49까지 중에서 score()가 1.0이하로 내려가는 이웃의 개수 구하기\n",
        "kn = KNeighborsClassifier()\n",
        "kn.fit(fish_data, fish_target)\n",
        "\n",
        "for n in range(5, 50):\n",
        "  kn.n_neighbors = n\n",
        "  score = kn.score(fish_data, fish_target)\n",
        "  if score < 1:\n",
        "    print(n)\n",
        "    break\n",
        "\n"
      ],
      "execution_count": null,
      "outputs": [
        {
          "output_type": "stream",
          "text": [
            "18\n"
          ],
          "name": "stdout"
        }
      ]
    },
    {
      "cell_type": "markdown",
      "metadata": {
        "id": "OGaxxWOfzQfk"
      },
      "source": [
        "### 훈련 세트와 테스트 세트  \n",
        "* 머신러닝 알고리즘의 성능을 제대로 평가하기 위해서 훈련 데이터train set와 평가 데이터test set을 별도로 두어야 한다. \n",
        "  \n",
        "* 지도학습 Supervised Learning  \n",
        " - 입력(데이터)와 타깃(정답)으로 이루어진 훈련데이터가 필요하다.\n",
        " - 입력 데이터의 유형 -> 특성feature\n",
        "\n",
        "* 비지도학습 UnSupervised Learning\n",
        " - 타깃 없이 입력데이터만 사용한다. \n"
      ]
    },
    {
      "cell_type": "code",
      "metadata": {
        "id": "Bt7z_ZSUz26p"
      },
      "source": [
        "fish_length = [25.4, 26.3, 26.5, 29.0, 29.0, 29.7, 29.7, 30.0, 30.0, 30.7, 31.0, 31.0, \n",
        "                31.5, 32.0, 32.0, 32.0, 33.0, 33.0, 33.5, 33.5, 34.0, 34.0, 34.5, 35.0, \n",
        "                35.0, 35.0, 35.0, 36.0, 36.0, 37.0, 38.5, 38.5, 39.5, 41.0, 41.0, 9.8, \n",
        "                10.5, 10.6, 11.0, 11.2, 11.3, 11.8, 11.8, 12.0, 12.2, 12.4, 13.0, 14.3, 15.0]\n",
        "fish_weight = [242.0, 290.0, 340.0, 363.0, 430.0, 450.0, 500.0, 390.0, 450.0, 500.0, 475.0, 500.0, \n",
        "                500.0, 340.0, 600.0, 600.0, 700.0, 700.0, 610.0, 650.0, 575.0, 685.0, 620.0, 680.0, \n",
        "                700.0, 725.0, 720.0, 714.0, 850.0, 1000.0, 920.0, 955.0, 925.0, 975.0, 950.0, 6.7, \n",
        "                7.5, 7.0, 9.7, 9.8, 8.7, 10.0, 9.9, 9.8, 12.2, 13.4, 12.2, 19.7, 19.9]"
      ],
      "execution_count": null,
      "outputs": []
    },
    {
      "cell_type": "code",
      "metadata": {
        "id": "hj-_1QDOz5UE"
      },
      "source": [
        "fish_data = [[l, w] for l, w in zip(fish_length, fish_weight)] # 샘플sample\n",
        "fish_target = [1]*35 + [0]*14 "
      ],
      "execution_count": null,
      "outputs": []
    },
    {
      "cell_type": "code",
      "metadata": {
        "id": "ObJ89_fN0Sgu"
      },
      "source": [
        "from sklearn.neighbors import KNeighborsClassifier\n",
        "kn = KNeighborsClassifier()\n",
        "\n",
        "# 샘플링의 편향 Sampling bias\n",
        "train_input = fish_data[:35] # 인덱스를 지정해서 슬라이싱 (인덱스가 0~34인 원소 => 여기선 앞에서부터 35개 )\n",
        "train_target = fish_target[:35]\n",
        "\n",
        "test_input = fish_data[35:]\n",
        "test_target = fish_target[35:]"
      ],
      "execution_count": null,
      "outputs": []
    },
    {
      "cell_type": "code",
      "metadata": {
        "colab": {
          "base_uri": "https://localhost:8080/"
        },
        "id": "tUD0sXij0nT-",
        "outputId": "3c83d096-9040-458e-aa41-5176663dd4bb"
      },
      "source": [
        "kn = kn.fit(train_input, train_target)\n",
        "kn.score(test_input, test_target) # -> Sampling bias"
      ],
      "execution_count": null,
      "outputs": [
        {
          "output_type": "execute_result",
          "data": {
            "text/plain": [
              "0.0"
            ]
          },
          "metadata": {
            "tags": []
          },
          "execution_count": 22
        }
      ]
    },
    {
      "cell_type": "markdown",
      "metadata": {
        "id": "wWPLs9T62mzv"
      },
      "source": [
        "* Numpy : 파이썬의 대표적인 배열 라이브러리, 다차원 표현에 특화"
      ]
    },
    {
      "cell_type": "code",
      "metadata": {
        "colab": {
          "base_uri": "https://localhost:8080/"
        },
        "id": "Q5rEiyA92BfN",
        "outputId": "ebbce5a6-4108-41bd-dea2-b89477f7dc2a"
      },
      "source": [
        "import numpy as np\n",
        "\n",
        "input_arr = np.array(fish_data) # input_arr에 input data(fish_data~length, weight)를 넣는다 \n",
        "target_arr = np.array(fish_target) # target_arr에 target data(fish_target)를 넣는다\n",
        "\n",
        "print(input_arr)"
      ],
      "execution_count": null,
      "outputs": [
        {
          "output_type": "stream",
          "text": [
            "[[  25.4  242. ]\n",
            " [  26.3  290. ]\n",
            " [  26.5  340. ]\n",
            " [  29.   363. ]\n",
            " [  29.   430. ]\n",
            " [  29.7  450. ]\n",
            " [  29.7  500. ]\n",
            " [  30.   390. ]\n",
            " [  30.   450. ]\n",
            " [  30.7  500. ]\n",
            " [  31.   475. ]\n",
            " [  31.   500. ]\n",
            " [  31.5  500. ]\n",
            " [  32.   340. ]\n",
            " [  32.   600. ]\n",
            " [  32.   600. ]\n",
            " [  33.   700. ]\n",
            " [  33.   700. ]\n",
            " [  33.5  610. ]\n",
            " [  33.5  650. ]\n",
            " [  34.   575. ]\n",
            " [  34.   685. ]\n",
            " [  34.5  620. ]\n",
            " [  35.   680. ]\n",
            " [  35.   700. ]\n",
            " [  35.   725. ]\n",
            " [  35.   720. ]\n",
            " [  36.   714. ]\n",
            " [  36.   850. ]\n",
            " [  37.  1000. ]\n",
            " [  38.5  920. ]\n",
            " [  38.5  955. ]\n",
            " [  39.5  925. ]\n",
            " [  41.   975. ]\n",
            " [  41.   950. ]\n",
            " [   9.8    6.7]\n",
            " [  10.5    7.5]\n",
            " [  10.6    7. ]\n",
            " [  11.     9.7]\n",
            " [  11.2    9.8]\n",
            " [  11.3    8.7]\n",
            " [  11.8   10. ]\n",
            " [  11.8    9.9]\n",
            " [  12.     9.8]\n",
            " [  12.2   12.2]\n",
            " [  12.4   13.4]\n",
            " [  13.    12.2]\n",
            " [  14.3   19.7]\n",
            " [  15.    19.9]]\n"
          ],
          "name": "stdout"
        }
      ]
    },
    {
      "cell_type": "code",
      "metadata": {
        "colab": {
          "base_uri": "https://localhost:8080/"
        },
        "id": "UvFzRXpi3AKi",
        "outputId": "39194781-132a-4ff4-c36c-63fb91a8b486"
      },
      "source": [
        "# np.shape : sample의 수, 특성 수 출력\n",
        "print(input_arr.shape)"
      ],
      "execution_count": null,
      "outputs": [
        {
          "output_type": "stream",
          "text": [
            "(49, 2)\n"
          ],
          "name": "stdout"
        }
      ]
    },
    {
      "cell_type": "code",
      "metadata": {
        "id": "sX7FCZM-3NQm",
        "colab": {
          "base_uri": "https://localhost:8080/"
        },
        "outputId": "284fd940-e42c-44df-a2c1-30abd64fcf39"
      },
      "source": [
        "# 랜덤하게 데이터를 고르는데, input_arr와 target_arr가 같은 위치에서 함께 선택되게끔 해야 한다\n",
        "# -> 인덱스를 섞은 후, input_arr와 target_arr에서 샘플 선택\n",
        "\n",
        "# np.random.seed(숫자) : np를 랜덤하게 만드는데 seed를 지정\n",
        "np.random.seed(42)\n",
        "\n",
        "# np.range(N) : 0부터 N-1까지 1씩 증가하는 넘파이 배열을 할당 \n",
        "index = np.arange(49)\n",
        "\n",
        "# np.random.shuffle() : # random하게 index라는 이름의 배열 안의 값을 섞는다 \n",
        "np.random.shuffle(index) \n",
        "\n",
        "print(index)"
      ],
      "execution_count": null,
      "outputs": [
        {
          "output_type": "stream",
          "text": [
            "[13 45 47 44 17 27 26 25 31 19 12  4 34  8  3  6 40 41 46 15  9 16 24 33\n",
            " 30  0 43 32  5 29 11 36  1 21  2 37 35 23 39 10 22 18 48 20  7 42 14 28\n",
            " 38]\n"
          ],
          "name": "stdout"
        }
      ]
    },
    {
      "cell_type": "code",
      "metadata": {
        "id": "E9PA-ByI3miy"
      },
      "source": [
        "# 배열인덱싱array indexing : 1개의 인덱스가 아닌 여러 개의 인덱스로 한 번에 여러 개의 원소 선택\n",
        "\n",
        "# 랜덤하게 섞인 인덱스를 사용해 훈련 세트와 테스트 세트로 나누기\n",
        "train_input = input_arr[index[:35]]\n",
        "train_target = target_arr[index[:35]]\n",
        "\n",
        "test_input = input_arr[index[35:]]\n",
        "test_target = target_arr[index[35:]]"
      ],
      "execution_count": null,
      "outputs": []
    },
    {
      "cell_type": "code",
      "metadata": {
        "colab": {
          "base_uri": "https://localhost:8080/"
        },
        "id": "eCncKqbv0uIs",
        "outputId": "b7430f4e-38ed-4274-b51c-7c0764a21964"
      },
      "source": [
        "# 기존의 입력데이터를 값을 순서대로 넣은 input_array에서 [13]번째 값 = input_arr에서 셔플한 인덱스를 할당한 train_input의 [0]번째 값\n",
        "print(input_arr[13], train_input[0])"
      ],
      "execution_count": null,
      "outputs": [
        {
          "output_type": "stream",
          "text": [
            "[ 32. 340.] [ 32. 340.]\n"
          ],
          "name": "stdout"
        }
      ]
    },
    {
      "cell_type": "code",
      "metadata": {
        "colab": {
          "base_uri": "https://localhost:8080/",
          "height": 279
        },
        "id": "xkXbMzzVK512",
        "outputId": "c4a426d2-6e15-4b22-a9d1-6a612f029c93"
      },
      "source": [
        "import matplotlib.pyplot as plt\n",
        "\n",
        "# 2차원 배열은 행과 열 인덱스를 콤마(,)로 나누어 지정합니다. 슬라이싱 연산자로 처음부터 마지막 원소까지 모두 선태하는 경우 시작과 종료 인덱스를 모두 생략할 수 있습니다.”\n",
        "# 2차원 배열은 행과 열의 인덱스를 따로 지정해야 합니다. 이 때 콤마를 사용하여 구분합니다.\n",
        "# 또 슬라이싱 연산자를 사용할 때 맨 처음 인덱스와 마지막 인덱스를 지칭할 때는 생략할 수 있습니다. 따라서 그냥 : 만 사용하면 모든 인덱스를 선택하는 셈이고 train_input[:, 0]은 모든 행의 첫 번째 열을 선택하게 됩니다!\n",
        "\n",
        "plt.scatter(train_input[:,0],train_input[:,1]) # train_input[:,0] -> 2차원 넘파이에서 axis0의 값은 전부 axis1에서는 0번째 인덱스의 값만 가져오겠다. \n",
        "plt.scatter(test_input[:,0], test_input[:,1])\n",
        "plt.xlabel('length')\n",
        "plt.ylabel('weight')\n",
        "plt.show()"
      ],
      "execution_count": null,
      "outputs": [
        {
          "output_type": "display_data",
          "data": {
            "image/png": "[encoded data removed]",
            "text/plain": [
              "<Figure size 432x288 with 1 Axes>"
            ]
          },
          "metadata": {
            "tags": [],
            "needs_background": "light"
          }
        }
      ]
    },
    {
      "cell_type": "code",
      "metadata": {
        "colab": {
          "base_uri": "https://localhost:8080/"
        },
        "id": "htpaiNcUMZW_",
        "outputId": "13928898-1adb-4fff-ac17-37eead347c5c"
      },
      "source": [
        "from sklearn.neighbors import KNeighborsClassifier\n",
        "kn = KNeighborsClassifier()\n",
        "\n",
        "# 모델 훈련\n",
        "kn = kn.fit(train_input, train_target)\n",
        "\n",
        "# 모델 테스트\n",
        "kn.score(test_input, test_target)"
      ],
      "execution_count": null,
      "outputs": [
        {
          "output_type": "execute_result",
          "data": {
            "text/plain": [
              "1.0"
            ]
          },
          "metadata": {
            "tags": []
          },
          "execution_count": 29
        }
      ]
    },
    {
      "cell_type": "code",
      "metadata": {
        "colab": {
          "base_uri": "https://localhost:8080/"
        },
        "id": "dNHwS-xFM9oj",
        "outputId": "04070795-ba42-453e-a66c-f052f5da2efe"
      },
      "source": [
        "# 예측 함수로 테스트 세트의 예측 결과과 실제 타깃 확인\n",
        "kn.predict(test_input) # predict() 메서드가 반환하는건 넘파이배열!, 사이킷런의 모델의 입력과 출력은 모두 넘파이배열"
      ],
      "execution_count": null,
      "outputs": [
        {
          "output_type": "execute_result",
          "data": {
            "text/plain": [
              "array([0, 0, 1, 0, 1, 1, 1, 0, 1, 1, 0, 1, 1, 0])"
            ]
          },
          "metadata": {
            "tags": []
          },
          "execution_count": 30
        }
      ]
    },
    {
      "cell_type": "code",
      "metadata": {
        "colab": {
          "base_uri": "https://localhost:8080/"
        },
        "id": "J4UM_vvHTXVo",
        "outputId": "78b058e9-f1ff-42a9-d7f7-8e044eb5c00d"
      },
      "source": [
        "test_target"
      ],
      "execution_count": null,
      "outputs": [
        {
          "output_type": "execute_result",
          "data": {
            "text/plain": [
              "array([0, 0, 1, 0, 1, 1, 1, 0, 1, 1, 0, 1, 1, 0])"
            ]
          },
          "metadata": {
            "tags": []
          },
          "execution_count": 31
        }
      ]
    },
    {
      "cell_type": "markdown",
      "metadata": {
        "id": "2ePxOcpkU8Ke"
      },
      "source": [
        "### 데이터의 전처리 (including 특성의 스케일 변화)\n",
        "\n",
        "올바른 결과 도출을 위해서 데이터 전처리 과정을 거친다"
      ]
    },
    {
      "cell_type": "code",
      "metadata": {
        "id": "he1P_q00TZKs"
      },
      "source": [
        "fish_length = [25.4, 26.3, 26.5, 29.0, 29.0, 29.7, 29.7, 30.0, 30.0, 30.7, 31.0, 31.0, \n",
        "                31.5, 32.0, 32.0, 32.0, 33.0, 33.0, 33.5, 33.5, 34.0, 34.0, 34.5, 35.0, \n",
        "                35.0, 35.0, 35.0, 36.0, 36.0, 37.0, 38.5, 38.5, 39.5, 41.0, 41.0, 9.8, \n",
        "                10.5, 10.6, 11.0, 11.2, 11.3, 11.8, 11.8, 12.0, 12.2, 12.4, 13.0, 14.3, 15.0]\n",
        "fish_weight = [242.0, 290.0, 340.0, 363.0, 430.0, 450.0, 500.0, 390.0, 450.0, 500.0, 475.0, 500.0, \n",
        "                500.0, 340.0, 600.0, 600.0, 700.0, 700.0, 610.0, 650.0, 575.0, 685.0, 620.0, 680.0, \n",
        "                700.0, 725.0, 720.0, 714.0, 850.0, 1000.0, 920.0, 955.0, 925.0, 975.0, 950.0, 6.7, \n",
        "                7.5, 7.0, 9.7, 9.8, 8.7, 10.0, 9.9, 9.8, 12.2, 13.4, 12.2, 19.7, 19.9]"
      ],
      "execution_count": null,
      "outputs": []
    },
    {
      "cell_type": "code",
      "metadata": {
        "colab": {
          "base_uri": "https://localhost:8080/"
        },
        "id": "npDul4epVY1R",
        "outputId": "c7d01657-39ab-498b-97ec-db0a78734de8"
      },
      "source": [
        "import numpy as np\n",
        "\n",
        "# np.column_stack() : 전달받은 리스트를 일렬로 세운 다음 (= 하나의 column의 데이터로! n*1) 차례대로 연결, 연결할 리스트는 튜플로 전달\n",
        "  # 튜플 : 리스트와 아주 비슷하지만, 한번 만들어진 튜플은 수정 불가 -> 매개변수 값으로 많이 사용\n",
        "np.column_stack(([1,2,3],[4,5,6]))"
      ],
      "execution_count": null,
      "outputs": [
        {
          "output_type": "execute_result",
          "data": {
            "text/plain": [
              "array([[1, 4],\n",
              "       [2, 5],\n",
              "       [3, 6]])"
            ]
          },
          "metadata": {
            "tags": []
          },
          "execution_count": 33
        }
      ]
    },
    {
      "cell_type": "code",
      "metadata": {
        "colab": {
          "base_uri": "https://localhost:8080/"
        },
        "id": "Zb4yBeodWIJj",
        "outputId": "4bf6a346-b660-4a0e-866d-2c2f18f09371"
      },
      "source": [
        "# 넘파이를 이용한 데이터 합치기\n",
        "fish_data = np.column_stack((fish_length, fish_weight))\n",
        "\n",
        "print(fish_data[:5])"
      ],
      "execution_count": null,
      "outputs": [
        {
          "output_type": "stream",
          "text": [
            "[[ 25.4 242. ]\n",
            " [ 26.3 290. ]\n",
            " [ 26.5 340. ]\n",
            " [ 29.  363. ]\n",
            " [ 29.  430. ]]\n"
          ],
          "name": "stdout"
        }
      ]
    },
    {
      "cell_type": "code",
      "metadata": {
        "colab": {
          "base_uri": "https://localhost:8080/"
        },
        "id": "Kj34gU_uagOi",
        "outputId": "d7b41ab3-7055-417b-9499-ade24382085e"
      },
      "source": [
        "# np.ones(), np.zeros()를 이용해 타깃 데이터 만들기\n",
        "\n",
        "# np.concatenate() : 전달받은 리스트를 옆으로 붙임 (= 1*n의 형식으로)\n",
        "fish_target = np.concatenate((np.ones(35), np.zeros(14)))\n",
        "\n",
        "print(fish_target)"
      ],
      "execution_count": null,
      "outputs": [
        {
          "output_type": "stream",
          "text": [
            "[1. 1. 1. 1. 1. 1. 1. 1. 1. 1. 1. 1. 1. 1. 1. 1. 1. 1. 1. 1. 1. 1. 1. 1.\n",
            " 1. 1. 1. 1. 1. 1. 1. 1. 1. 1. 1. 0. 0. 0. 0. 0. 0. 0. 0. 0. 0. 0. 0. 0.\n",
            " 0.]\n"
          ],
          "name": "stdout"
        }
      ]
    },
    {
      "cell_type": "code",
      "metadata": {
        "id": "_uH0wrZH2x6H"
      },
      "source": [
        "# 사이킷런으로 훈련세트와 테스트 세트 나누기\n",
        "\n",
        "# train_test_split() : 전달되는 리스트나 배열를 shuffle해서 비율에 맞게 훈련 세트와 테스트 세트를 나누어준다.\n",
        "from sklearn.model_selection import train_test_split\n",
        "\n",
        "# 테스트세트 비율 : default = 25%, test_size 매개변수에서 지정할 수 있다.\n",
        "train_input, test_input, train_target, test_target = train_test_split(fish_data, fish_target, random_state=42)"
      ],
      "execution_count": null,
      "outputs": []
    },
    {
      "cell_type": "code",
      "metadata": {
        "colab": {
          "base_uri": "https://localhost:8080/"
        },
        "id": "cEwnrRgWTIeW",
        "outputId": "7f0a848f-959c-4641-f605-d48eb23e838d"
      },
      "source": [
        "print(train_input.shape, test_input.shape) # 2차원 배열, rows=데이터 개수가 36, 13"
      ],
      "execution_count": null,
      "outputs": [
        {
          "output_type": "stream",
          "text": [
            "(36, 2) (13, 2)\n"
          ],
          "name": "stdout"
        }
      ]
    },
    {
      "cell_type": "code",
      "metadata": {
        "colab": {
          "base_uri": "https://localhost:8080/"
        },
        "id": "fPkgST9VTtaq",
        "outputId": "84f96f6c-6d9f-4664-fc4b-825e87a14dca"
      },
      "source": [
        "print(train_target.shape, test_target.shape) # 1차원 배열, rows개수가 36, 13"
      ],
      "execution_count": null,
      "outputs": [
        {
          "output_type": "stream",
          "text": [
            "(36,) (13,)\n"
          ],
          "name": "stdout"
        }
      ]
    },
    {
      "cell_type": "code",
      "metadata": {
        "colab": {
          "base_uri": "https://localhost:8080/"
        },
        "id": "Snmc-PhjTdJg",
        "outputId": "55fd400c-4d47-4024-b7cc-063840f09987"
      },
      "source": [
        "print(test_target)\n",
        "# 원래의 도미와 빙어의 비율은 2.5:1인데 현재는 3.3:1 -> 샘플링의 편향이 발생 \n",
        "# 무작위로 데이터 나눌 때 샘플이 골고루 섞이지 않을 수 있다. 특히, 일부 클래스의 개수가 적을 때 이런 현상이 발생할 수 있음"
      ],
      "execution_count": null,
      "outputs": [
        {
          "output_type": "stream",
          "text": [
            "[1. 0. 0. 0. 1. 1. 1. 1. 1. 1. 1. 1. 1.]\n"
          ],
          "name": "stdout"
        }
      ]
    },
    {
      "cell_type": "code",
      "metadata": {
        "id": "oWf9AB_yThaV"
      },
      "source": [
        "# train_test_split()함수에 stratify 매개변수에 타깃데이터 전달 -> 클래스에 맞게 데이터를 나눈다. \n",
        "train_input, test_input, train_target, test_target = train_test_split(fish_data, fish_target, stratify=fish_target, random_state=42)"
      ],
      "execution_count": null,
      "outputs": []
    },
    {
      "cell_type": "code",
      "metadata": {
        "colab": {
          "base_uri": "https://localhost:8080/"
        },
        "id": "p0Fu5K7LUxIR",
        "outputId": "4a7cd197-ef16-410f-da89-ceb931637e22"
      },
      "source": [
        "print(test_target)"
      ],
      "execution_count": null,
      "outputs": [
        {
          "output_type": "stream",
          "text": [
            "[0. 0. 1. 0. 1. 0. 1. 1. 1. 1. 1. 1. 1.]\n"
          ],
          "name": "stdout"
        }
      ]
    },
    {
      "cell_type": "code",
      "metadata": {
        "colab": {
          "base_uri": "https://localhost:8080/"
        },
        "id": "UvoYsMPfUyqe",
        "outputId": "9cca2906-cff0-4a10-e95e-d04ed3057f92"
      },
      "source": [
        "from sklearn.neighbors import KNeighborsClassifier\n",
        "kn = KNeighborsClassifier()\n",
        "kn.fit(train_input, train_target)\n",
        "kn.score(test_input, test_target)"
      ],
      "execution_count": null,
      "outputs": [
        {
          "output_type": "execute_result",
          "data": {
            "text/plain": [
              "1.0"
            ]
          },
          "metadata": {
            "tags": []
          },
          "execution_count": 42
        }
      ]
    },
    {
      "cell_type": "code",
      "metadata": {
        "colab": {
          "base_uri": "https://localhost:8080/"
        },
        "id": "JRptVXBqVBLN",
        "outputId": "9bdb8416-aec3-47d1-d27e-fb099eb60f93"
      },
      "source": [
        "print(kn.predict([[25, 150]]))"
      ],
      "execution_count": null,
      "outputs": [
        {
          "output_type": "stream",
          "text": [
            "[0.]\n"
          ],
          "name": "stdout"
        }
      ]
    },
    {
      "cell_type": "code",
      "metadata": {
        "colab": {
          "base_uri": "https://localhost:8080/",
          "height": 279
        },
        "id": "MdqkXoEXVhOJ",
        "outputId": "b3d33c39-d4ab-43cf-b944-e4931132c1f2"
      },
      "source": [
        "import matplotlib.pyplot as plt\n",
        "plt.scatter(train_input[:,0], train_input[:,1])\n",
        "plt.scatter(25, 150, marker='^') # [25,150]의 값을 가지는 데이터에 marker 모양 지정\n",
        "plt.xlabel('length')\n",
        "plt.ylabel('weight')\n",
        "plt.show()\n",
        "# 결과) 삼각형 데이터는 분명 도미데이터에 가까운데 왜 빙어로 결과가 나오는걸까??"
      ],
      "execution_count": null,
      "outputs": [
        {
          "output_type": "display_data",
          "data": {
            "image/png": "[encoded data removed]",
            "text/plain": [
              "<Figure size 432x288 with 1 Axes>"
            ]
          },
          "metadata": {
            "tags": [],
            "needs_background": "light"
          }
        }
      ]
    },
    {
      "cell_type": "code",
      "metadata": {
        "colab": {
          "base_uri": "https://localhost:8080/",
          "height": 279
        },
        "id": "iTmoZWdYWBIC",
        "outputId": "b8ed346b-466f-4553-c405-aa038ec2014e"
      },
      "source": [
        "# K-최근접 이웃 : 주변의 샘플 중에서 다수인 클래스를 예측으로 사용\n",
        "\n",
        "# kn.kneighbors() : 이웃끼리의 거리, 이웃 샘플의 인덱스 반환 (n_neighbors의 기본값이 5이므로 기본 5개 이웃 반환)\n",
        "  # return_distance = FALSE -> 이웃 샘플의 인덱스만 반환. 기본값은 TRUE\n",
        "distances, indexes = kn.kneighbors([[25, 150]]) \n",
        "\n",
        "plt.scatter(train_input[:,0], train_input[:,1])\n",
        "plt.scatter(25, 150, marker='^')\n",
        "plt.scatter(train_input[indexes,0], train_input[indexes,1],marker='D') # marker = 'D' : 마름모\n",
        "plt.xlabel('length')\n",
        "plt.ylabel('weight')\n",
        "plt.show()\n",
        "# 결과) k=5로 두고 k-NN을 사용하면 도미 클래스 데이터는 하나밖에 포함이 안된다."
      ],
      "execution_count": null,
      "outputs": [
        {
          "output_type": "display_data",
          "data": {
            "image/png": "[encoded data removed]",
            "text/plain": [
              "<Figure size 432x288 with 1 Axes>"
            ]
          },
          "metadata": {
            "tags": [],
            "needs_background": "light"
          }
        }
      ]
    },
    {
      "cell_type": "code",
      "metadata": {
        "colab": {
          "base_uri": "https://localhost:8080/"
        },
        "id": "edncP5OXYnUc",
        "outputId": "ba35702c-760c-4207-b8c7-4c7949b96d32"
      },
      "source": [
        "print(train_input[indexes])"
      ],
      "execution_count": null,
      "outputs": [
        {
          "output_type": "stream",
          "text": [
            "[[[ 25.4 242. ]\n",
            "  [ 15.   19.9]\n",
            "  [ 14.3  19.7]\n",
            "  [ 13.   12.2]\n",
            "  [ 12.2  12.2]]]\n"
          ],
          "name": "stdout"
        }
      ]
    },
    {
      "cell_type": "code",
      "metadata": {
        "colab": {
          "base_uri": "https://localhost:8080/"
        },
        "id": "z4PuNF30Yb8j",
        "outputId": "ff58c85f-335b-44ad-f571-c6afa1d6fd85"
      },
      "source": [
        "print(train_target[indexes])"
      ],
      "execution_count": null,
      "outputs": [
        {
          "output_type": "stream",
          "text": [
            "[[1. 0. 0. 0. 0.]]\n"
          ],
          "name": "stdout"
        }
      ]
    },
    {
      "cell_type": "code",
      "metadata": {
        "colab": {
          "base_uri": "https://localhost:8080/"
        },
        "id": "kV5EP1T7bP0w",
        "outputId": "34786dc5-b2f9-48dd-a410-b23f0798a021"
      },
      "source": [
        "print(distances)\n",
        "# 그래프의 비율이 이상하다. 분명 도미랑은 엄청 가까운데 92고 그보다 몇배는 멀리 있는 것처럼 보이는 빙어들과의 길이는 130, 138정도로 밖에 안나온다\n",
        "# -> x축의 범위가 좁고, y축은 범위가 넓어서 y축으로 조금만 멀어져도 거리가 아주 큰값으로 계산되는것!"
      ],
      "execution_count": null,
      "outputs": [
        {
          "output_type": "stream",
          "text": [
            "[[ 92.00086956 130.48375378 130.73859415 138.32150953 138.39320793]]\n"
          ],
          "name": "stdout"
        }
      ]
    },
    {
      "cell_type": "code",
      "metadata": {
        "colab": {
          "base_uri": "https://localhost:8080/",
          "height": 279
        },
        "id": "uXY3YU0qbTbm",
        "outputId": "5c829a1c-c972-4f32-f324-bee24bd39453"
      },
      "source": [
        "# 산점도를 동일한 스케일의 차트로 그려보자(x, y축을 동일한 범위로 맞추기)\n",
        "plt.scatter(train_input[:,0], train_input[:,1])\n",
        "plt.scatter(25, 150, marker='^')\n",
        "plt.scatter(train_input[indexes,0], train_input[indexes,1], marker='D')\n",
        "plt.xlim((0, 1000))\n",
        "plt.xlabel('length')\n",
        "plt.ylabel('weight')\n",
        "plt.show()"
      ],
      "execution_count": null,
      "outputs": [
        {
          "output_type": "display_data",
          "data": {
            "image/png": "[encoded data removed]",
            "text/plain": [
              "<Figure size 432x288 with 1 Axes>"
            ]
          },
          "metadata": {
            "tags": [],
            "needs_background": "light"
          }
        }
      ]
    },
    {
      "cell_type": "code",
      "metadata": {
        "colab": {
          "base_uri": "https://localhost:8080/"
        },
        "id": "WpTLvQEoDPgg",
        "outputId": "7cce0d4c-ed39-402e-d013-1ba2f2f50803"
      },
      "source": [
        "# 두 특성의 스케일Scale이 다르면 알고리즘을 올바르게 예측할 수 없다. 특히나 거리기반 알고리즘의 경우! -> 데이터 전처리data preprocessing\n",
        "\n",
        "# 표준점수Standard score (=Z점수) : 각 특성값이 0(원점)에서 표준편차의 명 배만큼 떨어져 있는지를 나타낸다\n",
        "  # 분산 = 데이터에서 평균을 뺀 값을 모두 제곱한 뒤 평균을 내어 구한다. \n",
        "  # 표준편차 = 분산의 제곱근, 데이터가 분산된 정도\n",
        "\n",
        "# 특성마다 값의 스케일이 다르므로 평균과 표준편차는 각 특성별로 계산해야 한다. \n",
        "# axis = 0 : 행을 따라 각 열의 통계 값을 계산한다\n",
        "mean = np.mean(train_input, axis=0) \n",
        "std = np.std(train_input, axis=0)\n",
        "\n",
        "print(mean, std)"
      ],
      "execution_count": null,
      "outputs": [
        {
          "output_type": "stream",
          "text": [
            "[ 27.29722222 454.09722222] [  9.98244253 323.29893931]\n"
          ],
          "name": "stdout"
        }
      ]
    },
    {
      "cell_type": "code",
      "metadata": {
        "colab": {
          "base_uri": "https://localhost:8080/"
        },
        "id": "S0y2YKIrEmfz",
        "outputId": "e098db5e-66e2-42f7-f9fa-2ab0942e16e8"
      },
      "source": [
        "# 표준점수\n",
        "  # 넘파이의 브로드캐스팅 : 크기가 다른 넘파이 배열에서 자동으로 사칙 연산을 모든 행이나 열로 확장하여 수행하는 기능\n",
        "  # 모든 행에서 mean에 있는 두 평균값을 빼주고, 그다음 std에 있는 두 표준편차를 다시 모든 행에 적용\n",
        "train_scaled = (train_input - mean)/std \n",
        "test_scaled = (test_input - mean)/std # 테스트 세트는 반드시 훈련 데이터의 통계값으로 정규화해야 한다. 그렇지 않으면 훈련세트에서 학습한 모델이 테스트 세트에서 올바르게 작동되지 않는다.\n",
        "\n",
        "print(train_scaled)"
      ],
      "execution_count": null,
      "outputs": [
        {
          "output_type": "stream",
          "text": [
            "[[ 0.24070039  0.14198246]\n",
            " [-1.51237757 -1.36683783]\n",
            " [ 0.5712808   0.76060496]\n",
            " [-1.60253587 -1.37766373]\n",
            " [ 1.22242404  1.45655528]\n",
            " [ 0.17057727 -0.07453542]\n",
            " [ 0.87180845  0.80390854]\n",
            " [ 0.87180845  1.22457184]\n",
            " [ 0.37092904  0.06465464]\n",
            " [ 0.77163257  0.82246721]\n",
            " [ 0.97198434  1.68853872]\n",
            " [-1.61255346 -1.3742613 ]\n",
            " [ 0.72154463  0.51315596]\n",
            " [-1.53241275 -1.3742613 ]\n",
            " [ 0.17057727 -0.28177396]\n",
            " [ 0.5712808   0.76060496]\n",
            " [ 0.34087627  0.14198246]\n",
            " [ 1.12224816  1.54934866]\n",
            " [ 0.62136874  0.60594934]\n",
            " [-1.30200822 -1.34363949]\n",
            " [ 0.42101698  0.14198246]\n",
            " [-0.19005591 -0.65604058]\n",
            " [-1.75279969 -1.38384995]\n",
            " [ 0.47110492  0.45129371]\n",
            " [-1.68267658 -1.38137546]\n",
            " [ 0.62136874  0.48222484]\n",
            " [-1.67265899 -1.38292202]\n",
            " [ 0.77163257  0.76060496]\n",
            " [ 0.47110492  0.45129371]\n",
            " [ 0.77163257  0.83793278]\n",
            " [-1.43223687 -1.36683783]\n",
            " [ 0.27075315 -0.01267317]\n",
            " [ 0.47110492 -0.35291555]\n",
            " [-1.2318851  -1.34302087]\n",
            " [ 0.27075315 -0.19825992]\n",
            " [ 1.37268787  1.61121091]]\n"
          ],
          "name": "stdout"
        }
      ]
    },
    {
      "cell_type": "code",
      "metadata": {
        "colab": {
          "base_uri": "https://localhost:8080/",
          "height": 279
        },
        "id": "p045kP12EunS",
        "outputId": "91530150-eba7-44a4-cc24-b57621794347"
      },
      "source": [
        "# 전처리 데이터로 모델 훈련하기\n",
        "plt.scatter(train_scaled[:,0], train_scaled[:,1])\n",
        "plt.scatter(25, 150, marker='^') # 이건 아직 정규화 안해줌 \n",
        "plt.xlabel('length')\n",
        "plt.ylabel('weight')\n",
        "plt.show()"
      ],
      "execution_count": null,
      "outputs": [
        {
          "output_type": "display_data",
          "data": {
            "image/png": "[encoded data removed]",
            "text/plain": [
              "<Figure size 432x288 with 1 Axes>"
            ]
          },
          "metadata": {
            "tags": [],
            "needs_background": "light"
          }
        }
      ]
    },
    {
      "cell_type": "code",
      "metadata": {
        "colab": {
          "base_uri": "https://localhost:8080/",
          "height": 279
        },
        "id": "Io9wiC4TFeRT",
        "outputId": "0268aa28-f9b6-4a6b-cd7d-39513db3887a"
      },
      "source": [
        "new = ([25, 150]-mean)/std\n",
        "plt.scatter(train_scaled[:,0], train_scaled[:,1])\n",
        "plt.scatter(new[0], new[1], marker='^')\n",
        "plt.xlabel('length')\n",
        "plt.ylabel('weight')\n",
        "plt.show()\n",
        "# 결과) 데이터가 정규화되어서 각 특성 축의 범위가 -1.5 ~ 1.5 사이의 값을 가지게 되었다"
      ],
      "execution_count": null,
      "outputs": [
        {
          "output_type": "display_data",
          "data": {
            "image/png": "[encoded data removed]",
            "text/plain": [
              "<Figure size 432x288 with 1 Axes>"
            ]
          },
          "metadata": {
            "tags": [],
            "needs_background": "light"
          }
        }
      ]
    },
    {
      "cell_type": "code",
      "metadata": {
        "colab": {
          "base_uri": "https://localhost:8080/"
        },
        "id": "af1zngvPGRwX",
        "outputId": "8b18608c-f8ba-4a69-fdad-d10637bac663"
      },
      "source": [
        "kn.fit(train_scaled, train_target)\n",
        "kn.score(test_scaled, test_target)"
      ],
      "execution_count": null,
      "outputs": [
        {
          "output_type": "execute_result",
          "data": {
            "text/plain": [
              "1.0"
            ]
          },
          "metadata": {
            "tags": []
          },
          "execution_count": 57
        }
      ]
    },
    {
      "cell_type": "code",
      "metadata": {
        "colab": {
          "base_uri": "https://localhost:8080/"
        },
        "id": "cejqptUZG2l7",
        "outputId": "4823063b-6c54-49d6-8eb8-62d02b941587"
      },
      "source": [
        "print(kn.predict([new])) # new = ([25, 150]-mean)/std"
      ],
      "execution_count": null,
      "outputs": [
        {
          "output_type": "stream",
          "text": [
            "[1.]\n"
          ],
          "name": "stdout"
        }
      ]
    },
    {
      "cell_type": "code",
      "metadata": {
        "colab": {
          "base_uri": "https://localhost:8080/",
          "height": 279
        },
        "id": "NGvJsefYG-gl",
        "outputId": "84201252-26fb-4c72-f033-f50a5251642b"
      },
      "source": [
        "distance, indexes = kn.kneighbors([new])\n",
        "plt.scatter(train_scaled[:,0], train_scaled[:,1])\n",
        "plt.scatter(new[0], new[1], marker='^') # plt.scatter(25, 150, marker='^')\n",
        "plt.scatter(train_scaled[indexes,0], train_scaled[indexes,1], marker='D')\n",
        "plt.xlabel('lenght')\n",
        "plt.ylabel('weight')\n",
        "plt.show()"
      ],
      "execution_count": null,
      "outputs": [
        {
          "output_type": "display_data",
          "data": {
            "image/png": "[encoded data removed]",
            "text/plain": [
              "<Figure size 432x288 with 1 Axes>"
            ]
          },
          "metadata": {
            "tags": [],
            "needs_background": "light"
          }
        }
      ]
    },
    {
      "cell_type": "code",
      "metadata": {
        "id": "Z8xwtFO6HmuI"
      },
      "source": [
        ""
      ],
      "execution_count": null,
      "outputs": []
    }
  ]
}