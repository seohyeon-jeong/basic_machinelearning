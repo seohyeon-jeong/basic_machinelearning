{
  "nbformat": 4,
  "nbformat_minor": 0,
  "metadata": {
    "colab": {
      "name": "Google Colab 환경구축 관련.ipynb",
      "provenance": [],
      "collapsed_sections": [],
      "authorship_tag": "ABX9TyO/EyjMuksZJu0cRzai5Iy0",
      "include_colab_link": true
    },
    "kernelspec": {
      "name": "python3",
      "display_name": "Python 3"
    }
  },
  "cells": [
    {
      "cell_type": "markdown",
      "metadata": {
        "id": "view-in-github",
        "colab_type": "text"
      },
      "source": [
        "<a href=\"https://colab.research.google.com/github/seohyeon-jeong/basic_machinelearning/blob/main/Google_Colab_%ED%99%98%EA%B2%BD%EA%B5%AC%EC%B6%95_%EA%B4%80%EB%A0%A8.ipynb\" target=\"_parent\"><img src=\"https://colab.research.google.com/assets/colab-badge.svg\" alt=\"Open In Colab\"/></a>"
      ]
    },
    {
      "cell_type": "markdown",
      "metadata": {
        "id": "83IU1sLo3R-x"
      },
      "source": [
        "### 환경 구축"
      ]
    },
    {
      "cell_type": "markdown",
      "metadata": {
        "id": "ZaRvEFJ33WhR"
      },
      "source": [
        "#### 1. Colab과 google Drive 연동"
      ]
    },
    {
      "cell_type": "code",
      "metadata": {
        "id": "FCT-K7e23V0p"
      },
      "source": [
        "# colab과 google Drive 연동을 위한 인증 및 네트워크 디렉토리 마운트\n",
        "from google.colab import auth\n",
        "auth.authenticate_user()\n",
        "\n",
        "from google.colab import drive\n",
        "drive.mount('/content/drive')"
      ],
      "execution_count": null,
      "outputs": []
    },
    {
      "cell_type": "markdown",
      "metadata": {
        "id": "0yY-P9J93cYV"
      },
      "source": [
        "#### 2. Google Colab matplotlib 한글 폰트 오류 문제 해결"
      ]
    },
    {
      "cell_type": "code",
      "metadata": {
        "id": "MUDtLsI23fP4"
      },
      "source": [
        "# Google Colab matplotlib 한글 폰트 오류 문제 해결\n",
        "\n",
        "# 1. 나눔 폰트 다운\n",
        "!sudo apt-get install -y fonts-nanum\n",
        "!sudo fc-cache -fv\n",
        "!rm ~/.cache/matplotlib -rf"
      ],
      "execution_count": null,
      "outputs": []
    },
    {
      "cell_type": "code",
      "metadata": {
        "id": "mMT6IUkZ3iUO"
      },
      "source": [
        "# 2. 런타임 다시 시작\n",
        "\n",
        "# 3. matplotlib의 폰트를 Nanum 폰트로 지정\n",
        "import matplotlib.pyplot as plt\n",
        "plt.rc('font', family='NanumBarunGothic') "
      ],
      "execution_count": null,
      "outputs": []
    },
    {
      "cell_type": "markdown",
      "metadata": {
        "id": "31Rq6aZX4XJq"
      },
      "source": [
        "#### 3. 일반적인 macos에서의 matplotlib 한글 폰트"
      ]
    },
    {
      "cell_type": "code",
      "metadata": {
        "id": "1-i2GIYJ4fX4"
      },
      "source": [
        "# matplotlib 한글 폰트 오류 문제 해결\n",
        "# from matplotlib import font_manager, rc\n",
        "# rc('font', family='AppleGothic')"
      ],
      "execution_count": null,
      "outputs": []
    }
  ]
}