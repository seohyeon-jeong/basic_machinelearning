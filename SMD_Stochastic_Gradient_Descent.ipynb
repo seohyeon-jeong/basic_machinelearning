{
  "nbformat": 4,
  "nbformat_minor": 0,
  "metadata": {
    "colab": {
      "name": "SMD_Stochastic Gradient Descent.ipynb",
      "provenance": [],
      "collapsed_sections": [],
      "authorship_tag": "ABX9TyNTpMaPE+Rb5llLCz4N72pR",
      "include_colab_link": true
    },
    "kernelspec": {
      "name": "python3",
      "display_name": "Python 3"
    }
  },
  "cells": [
    {
      "cell_type": "markdown",
      "metadata": {
        "id": "view-in-github",
        "colab_type": "text"
      },
      "source": [
        "<a href=\"https://colab.research.google.com/github/seohyeon-jeong/basic_machinelearning/blob/main/SMD_Stochastic_Gradient_Descent.ipynb\" target=\"_parent\"><img src=\"https://colab.research.google.com/assets/colab-badge.svg\" alt=\"Open In Colab\"/></a>"
      ]
    },
    {
      "cell_type": "markdown",
      "metadata": {
        "id": "W1uNhsZl-hCs"
      },
      "source": [
        "### 확률적 경사 하강법Stochastic Gradient Descent\n",
        "확률적 경사 하강법은 대표적인 점진적 학습 알고리즘의 일종\n",
        "- 확률적 = 무작위하게, 랜덤하게 \n",
        "- 경사 = 기울기\n",
        "- 하강법 = 내려가는 방법  \n",
        "\n",
        "> 점진적 학습 = 온라인 학습   \n",
        "앞서 훈련한 모델을 버리지 않고 새로운 데이터에 대해서만 조금씩 훈련하는 방식 \n",
        "\n",
        "\n",
        "\n"
      ]
    }
  ]
}