{
  "nbformat": 4,
  "nbformat_minor": 0,
  "metadata": {
    "colab": {
      "name": "데이터 파일 읽어오기.ipynb",
      "provenance": [],
      "collapsed_sections": [],
      "toc_visible": true,
      "authorship_tag": "ABX9TyPqwt2x1UWozvBYDFPx1Y6U",
      "include_colab_link": true
    },
    "kernelspec": {
      "name": "python3",
      "display_name": "Python 3"
    }
  },
  "cells": [
    {
      "cell_type": "markdown",
      "metadata": {
        "id": "view-in-github",
        "colab_type": "text"
      },
      "source": [
        "<a href=\"https://colab.research.google.com/github/seohyeon-jeong/basic_machinelearning/blob/main/%EB%8D%B0%EC%9D%B4%ED%84%B0_%ED%8C%8C%EC%9D%BC_%EC%9D%BD%EC%96%B4%EC%98%A4%EA%B8%B0.ipynb\" target=\"_parent\"><img src=\"https://colab.research.google.com/assets/colab-badge.svg\" alt=\"Open In Colab\"/></a>"
      ]
    },
    {
      "cell_type": "markdown",
      "metadata": {
        "id": "3GEsvnV3BlOZ"
      },
      "source": [
        "#### Colab 사용준비"
      ]
    },
    {
      "cell_type": "code",
      "metadata": {
        "colab": {
          "base_uri": "https://localhost:8080/"
        },
        "id": "BLrXy3daBYLz",
        "outputId": "f8c04da8-bbfa-455d-e9d8-6dbfb7e95e33"
      },
      "source": [
        "# colab과 google Drive 연동을 위한 인증 및 네트워크 디렉토리 마운트\n",
        "from google.colab import auth\n",
        "auth.authenticate_user()\n",
        "\n",
        "from google.colab import drive\n",
        "drive.mount('/content/drive')"
      ],
      "execution_count": 6,
      "outputs": [
        {
          "output_type": "stream",
          "text": [
            "Mounted at /content/drive\n"
          ],
          "name": "stdout"
        }
      ]
    },
    {
      "cell_type": "code",
      "metadata": {
        "id": "Qh7mEZhQBjY-"
      },
      "source": [
        "# 연동 후 자신의 google drive에 있는 data directory 확인\n",
        "!cd \"/content/drive/My Drive/data\";"
      ],
      "execution_count": 8,
      "outputs": []
    },
    {
      "cell_type": "markdown",
      "metadata": {
        "id": "3zGOsLo2EY5f"
      },
      "source": [
        "#### 판다스로 구글 드라이브의 데이터 불러오기"
      ]
    },
    {
      "cell_type": "code",
      "metadata": {
        "id": "UOvvUgH-_xm6"
      },
      "source": [
        "import pandas as pd"
      ],
      "execution_count": 1,
      "outputs": []
    },
    {
      "cell_type": "code",
      "metadata": {
        "colab": {
          "base_uri": "https://localhost:8080/"
        },
        "id": "KgUaFjjQ_36o",
        "outputId": "21b5447c-7e05-4779-e858-e72e026457d6"
      },
      "source": [
        "import os \n",
        "print(os.getcwd()) # 현재 디렉토리 확인 \n",
        "print(os.listdir(os.getcwd())) # 현재 디렉토리에 있는 파일 리스트"
      ],
      "execution_count": 5,
      "outputs": [
        {
          "output_type": "stream",
          "text": [
            "/content\n",
            "['.config', 'sample_data']\n"
          ],
          "name": "stdout"
        }
      ]
    },
    {
      "cell_type": "code",
      "metadata": {
        "id": "ZSyGYR23__5E"
      },
      "source": [
        "os.chdir('/downloads')# 작업 디렉토리 변경"
      ],
      "execution_count": null,
      "outputs": []
    },
    {
      "cell_type": "code",
      "metadata": {
        "id": "GlNXI3MbAsV0"
      },
      "source": [
        "# 판다스로 데이터 불러오기 \n",
        "# pd.read_csv('/content/drive/My Drive/data/ ... filename.csv')\n",
        "# header가 없는 파일이면 header = None\n",
        "df = pd.read_csv('/content/drive/My Drive/data/pandasML_black/auto-mpg.csv', header=None)\n",
        "\n",
        "# 칼럼명 지정\n",
        "df.columns = ['mpg', 'cylinders', 'displacement','horsepower',\n",
        "              'weight','acceleration','model year','origin','name']"
      ],
      "execution_count": 11,
      "outputs": []
    },
    {
      "cell_type": "markdown",
      "metadata": {
        "id": "dPj9xC5bEiBv"
      },
      "source": [
        "#### 기본 데이터 탐색"
      ]
    },
    {
      "cell_type": "code",
      "metadata": {
        "colab": {
          "base_uri": "https://localhost:8080/"
        },
        "id": "VEcGYaSCDxu8",
        "outputId": "aa964d74-fd1a-4a19-e64d-17bc6dc6da09"
      },
      "source": [
        "print(df.head()) # 최초의 5개 행 출력"
      ],
      "execution_count": 12,
      "outputs": [
        {
          "output_type": "stream",
          "text": [
            "    mpg  cylinders  displacement  ... model year  origin                       name\n",
            "0  18.0          8         307.0  ...         70       1  chevrolet chevelle malibu\n",
            "1  15.0          8         350.0  ...         70       1          buick skylark 320\n",
            "2  18.0          8         318.0  ...         70       1         plymouth satellite\n",
            "3  16.0          8         304.0  ...         70       1              amc rebel sst\n",
            "4  17.0          8         302.0  ...         70       1                ford torino\n",
            "\n",
            "[5 rows x 9 columns]\n"
          ],
          "name": "stdout"
        }
      ]
    },
    {
      "cell_type": "code",
      "metadata": {
        "colab": {
          "base_uri": "https://localhost:8080/"
        },
        "id": "BUltljF3EW4g",
        "outputId": "8d3af3b5-bd5c-4ac6-a535-787a83ca5691"
      },
      "source": [
        "print(df.tail()) # 가장 뒤의 데이터 5개 출력"
      ],
      "execution_count": 13,
      "outputs": [
        {
          "output_type": "stream",
          "text": [
            "      mpg  cylinders  displacement  ... model year  origin             name\n",
            "393  27.0          4         140.0  ...         82       1  ford mustang gl\n",
            "394  44.0          4          97.0  ...         82       2        vw pickup\n",
            "395  32.0          4         135.0  ...         82       1    dodge rampage\n",
            "396  28.0          4         120.0  ...         82       1      ford ranger\n",
            "397  31.0          4         119.0  ...         82       1       chevy s-10\n",
            "\n",
            "[5 rows x 9 columns]\n"
          ],
          "name": "stdout"
        }
      ]
    },
    {
      "cell_type": "code",
      "metadata": {
        "colab": {
          "base_uri": "https://localhost:8080/"
        },
        "id": "XftjZWqyEnz5",
        "outputId": "d6f31096-f184-405b-ce72-c19d574c18ec"
      },
      "source": [
        "# 데이터 구조 파악 : (행의 수, 열의 수) ~ 판다스는 2차원 배열\n",
        "print(df.shape)"
      ],
      "execution_count": 14,
      "outputs": [
        {
          "output_type": "stream",
          "text": [
            "(398, 9)\n"
          ],
          "name": "stdout"
        }
      ]
    },
    {
      "cell_type": "code",
      "metadata": {
        "colab": {
          "base_uri": "https://localhost:8080/"
        },
        "id": "pjwAkY7REugH",
        "outputId": "a870ba29-531b-4724-82d8-0b471de19199"
      },
      "source": [
        "# 데이터프레임 정보 출력 : Non-null 카운트, 데이터 타입, 컬럼명, 메모리 등\n",
        "print(df.info())\n",
        "\n",
        "# 데이터 타입만 출력하고 싶으면\n",
        "print(df.dtypes)"
      ],
      "execution_count": 15,
      "outputs": [
        {
          "output_type": "stream",
          "text": [
            "<class 'pandas.core.frame.DataFrame'>\n",
            "RangeIndex: 398 entries, 0 to 397\n",
            "Data columns (total 9 columns):\n",
            " #   Column        Non-Null Count  Dtype  \n",
            "---  ------        --------------  -----  \n",
            " 0   mpg           398 non-null    float64\n",
            " 1   cylinders     398 non-null    int64  \n",
            " 2   displacement  398 non-null    float64\n",
            " 3   horsepower    398 non-null    object \n",
            " 4   weight        398 non-null    float64\n",
            " 5   acceleration  398 non-null    float64\n",
            " 6   model year    398 non-null    int64  \n",
            " 7   origin        398 non-null    int64  \n",
            " 8   name          398 non-null    object \n",
            "dtypes: float64(4), int64(3), object(2)\n",
            "memory usage: 28.1+ KB\n",
            "None\n"
          ],
          "name": "stdout"
        }
      ]
    },
    {
      "cell_type": "code",
      "metadata": {
        "colab": {
          "base_uri": "https://localhost:8080/"
        },
        "id": "zupgKJA1E_OV",
        "outputId": "dfc6c8df-e6f5-4812-8f64-850907440747"
      },
      "source": [
        "# 시리즈의 데이터 타입\n",
        "print(df.mpg.dtypes)"
      ],
      "execution_count": 16,
      "outputs": [
        {
          "output_type": "stream",
          "text": [
            "float64\n"
          ],
          "name": "stdout"
        }
      ]
    },
    {
      "cell_type": "code",
      "metadata": {
        "colab": {
          "base_uri": "https://localhost:8080/"
        },
        "id": "0O9BSq8HGEKP",
        "outputId": "d33b5b88-bba4-45b7-acfa-9e81aedbf76c"
      },
      "source": [
        "# 각 열별로 평균 통계량 출력\n",
        "print(df.describe())\n",
        "# print(df.describe(include='all')) # unique, top, freq 까지 출력"
      ],
      "execution_count": 17,
      "outputs": [
        {
          "output_type": "stream",
          "text": [
            "              mpg   cylinders  ...  model year      origin\n",
            "count  398.000000  398.000000  ...  398.000000  398.000000\n",
            "mean    23.514573    5.454774  ...   76.010050    1.572864\n",
            "std      7.815984    1.701004  ...    3.697627    0.802055\n",
            "min      9.000000    3.000000  ...   70.000000    1.000000\n",
            "25%     17.500000    4.000000  ...   73.000000    1.000000\n",
            "50%     23.000000    4.000000  ...   76.000000    1.000000\n",
            "75%     29.000000    8.000000  ...   79.000000    2.000000\n",
            "max     46.600000    8.000000  ...   82.000000    3.000000\n",
            "\n",
            "[8 rows x 7 columns]\n"
          ],
          "name": "stdout"
        }
      ]
    },
    {
      "cell_type": "code",
      "metadata": {
        "colab": {
          "base_uri": "https://localhost:8080/"
        },
        "id": "qRi74leAGK1p",
        "outputId": "2a73d84e-b5fe-45c4-9d22-3dc7b49abac1"
      },
      "source": [
        "# 각 열별로 데이터 수 \n",
        "print(df.count()) \n",
        "\n",
        "# print(type(df.count())) # Series 형태로 값이 반환된다는 것을 확인 "
      ],
      "execution_count": 18,
      "outputs": [
        {
          "output_type": "stream",
          "text": [
            "mpg             398\n",
            "cylinders       398\n",
            "displacement    398\n",
            "horsepower      398\n",
            "weight          398\n",
            "acceleration    398\n",
            "model year      398\n",
            "origin          398\n",
            "name            398\n",
            "dtype: int64\n"
          ],
          "name": "stdout"
        }
      ]
    },
    {
      "cell_type": "code",
      "metadata": {
        "colab": {
          "base_uri": "https://localhost:8080/"
        },
        "id": "quk6scA5GaDh",
        "outputId": "ecd263a3-fffb-4c7d-e019-b1c998e2168b"
      },
      "source": [
        "# origin이라는 열의 유니크 값과 그 값의 개수\n",
        "unique_values = df['origin'].value_counts()\n",
        "print(unique_values)  # 1: USA, 2: EU, 3: Japan\n",
        "\n",
        "# print(type(unique_values)) \n",
        "# Series 형태로 값이 반환된다는 것을 확인"
      ],
      "execution_count": 20,
      "outputs": [
        {
          "output_type": "stream",
          "text": [
            "1    249\n",
            "3     79\n",
            "2     70\n",
            "Name: origin, dtype: int64\n"
          ],
          "name": "stdout"
        }
      ]
    },
    {
      "cell_type": "code",
      "metadata": {
        "colab": {
          "base_uri": "https://localhost:8080/"
        },
        "id": "SKzaj2OZG0Pf",
        "outputId": "80f154d6-e83d-4f75-dd0c-f8d1d03a263c"
      },
      "source": [
        "# 데이터 안의 열의 개수\n",
        "print(len(df.columns))\n",
        "\n",
        "# 데이터 안의 행의 개수\n",
        "print(len(df))"
      ],
      "execution_count": 23,
      "outputs": [
        {
          "output_type": "stream",
          "text": [
            "9\n",
            "398\n"
          ],
          "name": "stdout"
        }
      ]
    },
    {
      "cell_type": "code",
      "metadata": {
        "colab": {
          "base_uri": "https://localhost:8080/"
        },
        "id": "bt3Q-A2THq_p",
        "outputId": "2dc59de6-64e0-463e-be15-7cea87ab8fa3"
      },
      "source": [
        "# 각 열의 평균\n",
        "print(df.mean())"
      ],
      "execution_count": 24,
      "outputs": [
        {
          "output_type": "stream",
          "text": [
            "mpg               23.514573\n",
            "cylinders          5.454774\n",
            "displacement     193.425879\n",
            "weight          2970.424623\n",
            "acceleration      15.568090\n",
            "model year        76.010050\n",
            "origin             1.572864\n",
            "dtype: float64\n"
          ],
          "name": "stdout"
        }
      ]
    },
    {
      "cell_type": "code",
      "metadata": {
        "colab": {
          "base_uri": "https://localhost:8080/"
        },
        "id": "fWLB1GuSHt30",
        "outputId": "94800c4a-7040-4da9-c7ed-8f9dbd19b30f"
      },
      "source": [
        " # 특정 열의 평균\n",
        " print(df['mpg'].mean())\n",
        " # print(df.mpg.mean()) "
      ],
      "execution_count": 27,
      "outputs": [
        {
          "output_type": "stream",
          "text": [
            "23.514572864321615\n"
          ],
          "name": "stdout"
        }
      ]
    },
    {
      "cell_type": "code",
      "metadata": {
        "colab": {
          "base_uri": "https://localhost:8080/"
        },
        "id": "EwdR5r4QH6m0",
        "outputId": "7bc1d4d4-7bef-4f48-bc8a-c66deba371a7"
      },
      "source": [
        "# 특정 열들의 평균\n",
        "print(df[['mpg', 'weight']].mean())"
      ],
      "execution_count": 29,
      "outputs": [
        {
          "output_type": "stream",
          "text": [
            "mpg         23.514573\n",
            "weight    2970.424623\n",
            "dtype: float64\n"
          ],
          "name": "stdout"
        }
      ]
    },
    {
      "cell_type": "code",
      "metadata": {
        "colab": {
          "base_uri": "https://localhost:8080/"
        },
        "id": "vpxCf4ZvJClJ",
        "outputId": "33d3ef38-7850-4413-c213-b4334694cdf8"
      },
      "source": [
        "# 각 열들의 중앙치\n",
        "print(df.median())"
      ],
      "execution_count": 30,
      "outputs": [
        {
          "output_type": "stream",
          "text": [
            "mpg               23.0\n",
            "cylinders          4.0\n",
            "displacement     148.5\n",
            "weight          2803.5\n",
            "acceleration      15.5\n",
            "model year        76.0\n",
            "origin             1.0\n",
            "dtype: float64\n"
          ],
          "name": "stdout"
        }
      ]
    },
    {
      "cell_type": "code",
      "metadata": {
        "colab": {
          "base_uri": "https://localhost:8080/"
        },
        "id": "0gCYdZl9JsKl",
        "outputId": "0d172221-8061-4f9f-d487-2f39a20cfba4"
      },
      "source": [
        "# 각 열들의 최대값, 최소값\n",
        "print(df.max(), '\\n\\n', df.min())\n",
        "\n",
        "# print(df.mpg.max())"
      ],
      "execution_count": 34,
      "outputs": [
        {
          "output_type": "stream",
          "text": [
            "mpg                         46.6\n",
            "cylinders                      8\n",
            "displacement                 455\n",
            "horsepower                     ?\n",
            "weight                      5140\n",
            "acceleration                24.8\n",
            "model year                    82\n",
            "origin                         3\n",
            "name            vw rabbit custom\n",
            "dtype: object \n",
            "\n",
            " mpg                                   9\n",
            "cylinders                             3\n",
            "displacement                         68\n",
            "horsepower                        100.0\n",
            "weight                             1613\n",
            "acceleration                          8\n",
            "model year                           70\n",
            "origin                                1\n",
            "name            amc ambassador brougham\n",
            "dtype: object\n"
          ],
          "name": "stdout"
        }
      ]
    },
    {
      "cell_type": "code",
      "metadata": {
        "colab": {
          "base_uri": "https://localhost:8080/"
        },
        "id": "l8dXI24dJwzW",
        "outputId": "0f5a2d50-1eed-48e4-cfed-f2a5d6fd73ad"
      },
      "source": [
        "# 각 열들의 표준편차\n",
        "print(df.std())\n",
        "\n",
        "print(df.mpg.std())"
      ],
      "execution_count": 35,
      "outputs": [
        {
          "output_type": "stream",
          "text": [
            "mpg               7.815984\n",
            "cylinders         1.701004\n",
            "displacement    104.269838\n",
            "weight          846.841774\n",
            "acceleration      2.757689\n",
            "model year        3.697627\n",
            "origin            0.802055\n",
            "dtype: float64\n"
          ],
          "name": "stdout"
        }
      ]
    },
    {
      "cell_type": "code",
      "metadata": {
        "colab": {
          "base_uri": "https://localhost:8080/"
        },
        "id": "ctPpDccrKRPS",
        "outputId": "0ca5cf2a-70d1-4637-c9e7-b73f4049cfdf"
      },
      "source": [
        "# 각 열들의 상관관계\n",
        "print(df.corr()) "
      ],
      "execution_count": 36,
      "outputs": [
        {
          "output_type": "stream",
          "text": [
            "                   mpg  cylinders  ...  model year    origin\n",
            "mpg           1.000000  -0.775396  ...    0.579267  0.563450\n",
            "cylinders    -0.775396   1.000000  ...   -0.348746 -0.562543\n",
            "displacement -0.804203   0.950721  ...   -0.370164 -0.609409\n",
            "weight       -0.831741   0.896017  ...   -0.306564 -0.581024\n",
            "acceleration  0.420289  -0.505419  ...    0.288137  0.205873\n",
            "model year    0.579267  -0.348746  ...    1.000000  0.180662\n",
            "origin        0.563450  -0.562543  ...    0.180662  1.000000\n",
            "\n",
            "[7 rows x 7 columns]\n"
          ],
          "name": "stdout"
        }
      ]
    },
    {
      "cell_type": "code",
      "metadata": {
        "colab": {
          "base_uri": "https://localhost:8080/"
        },
        "id": "DcYbgEJ9LVUF",
        "outputId": "1abc2953-8d15-4eb6-84dc-e36f40edd7d9"
      },
      "source": [
        "# 두 개의 변수 간의 상관관계\n",
        "print(df[['mpg','weight']].corr())"
      ],
      "execution_count": 37,
      "outputs": [
        {
          "output_type": "stream",
          "text": [
            "             mpg    weight\n",
            "mpg     1.000000 -0.831741\n",
            "weight -0.831741  1.000000\n"
          ],
          "name": "stdout"
        }
      ]
    },
    {
      "cell_type": "code",
      "metadata": {
        "id": "p59GBBLYLY1X"
      },
      "source": [
        ""
      ],
      "execution_count": null,
      "outputs": []
    }
  ]
}