{
  "nbformat": 4,
  "nbformat_minor": 0,
  "metadata": {
    "colab": {
      "name": "SMD_BreamAndSmelt_Classfication.ipynb",
      "provenance": [],
      "collapsed_sections": [],
      "toc_visible": true,
      "authorship_tag": "ABX9TyN0kI2cLUDbCJKO1tCCLddt",
      "include_colab_link": true
    },
    "kernelspec": {
      "name": "python3",
      "display_name": "Python 3"
    }
  },
  "cells": [
    {
      "cell_type": "markdown",
      "metadata": {
        "id": "view-in-github",
        "colab_type": "text"
      },
      "source": [
        "<a href=\"https://colab.research.google.com/github/seohyeon-jeong/basic_machinelearning/blob/main/SMD_BreamAndSmelt_Classfication.ipynb\" target=\"_parent\"><img src=\"https://colab.research.google.com/assets/colab-badge.svg\" alt=\"Open In Colab\"/></a>"
      ]
    },
    {
      "cell_type": "markdown",
      "metadata": {
        "id": "iXeKrFnHFk43"
      },
      "source": [
        "### 다중 분류multi-class classfication with K-NN Classifier\n",
        ": 타깃 데이터에 2개 이상의 클래스가 포함된 문제 \n",
        "\n",
        "- 이진 분류처럼 양성 클래스와 음성 클래스를 각각 1과 0으로 지정한 것처럼 타깃값을 숫자로 바꾸어 입력할 수 있지만, 사이킷런에서는 문자열로 된 타깃값을 그대로 사용할 수 있다\n",
        "\n",
        "- KNeighborsClassifier에서 정렬된 타깃값은 classes_속성에 알파벳순으로 들어있음\n",
        "\n",
        "- predict_proba() 메서드로 클래스별 확률값을 반환한다\n",
        "\n"
      ]
    },
    {
      "cell_type": "code",
      "metadata": {
        "colab": {
          "base_uri": "https://localhost:8080/",
          "height": 204
        },
        "id": "SPuaMmTQxKM0",
        "outputId": "bd6ab477-b0d6-4641-c502-9dae247aad70"
      },
      "source": [
        "import pandas as pd\n",
        "fish = pd.read_csv('https://bit.ly/fish_csv_data')\n",
        "fish.head()"
      ],
      "execution_count": 1,
      "outputs": [
        {
          "output_type": "execute_result",
          "data": {
            "text/html": [
              "<div>\n",
              "<style scoped>\n",
              "    .dataframe tbody tr th:only-of-type {\n",
              "        vertical-align: middle;\n",
              "    }\n",
              "\n",
              "    .dataframe tbody tr th {\n",
              "        vertical-align: top;\n",
              "    }\n",
              "\n",
              "    .dataframe thead th {\n",
              "        text-align: right;\n",
              "    }\n",
              "</style>\n",
              "<table border=\"1\" class=\"dataframe\">\n",
              "  <thead>\n",
              "    <tr style=\"text-align: right;\">\n",
              "      <th></th>\n",
              "      <th>Species</th>\n",
              "      <th>Weight</th>\n",
              "      <th>Length</th>\n",
              "      <th>Diagonal</th>\n",
              "      <th>Height</th>\n",
              "      <th>Width</th>\n",
              "    </tr>\n",
              "  </thead>\n",
              "  <tbody>\n",
              "    <tr>\n",
              "      <th>0</th>\n",
              "      <td>Bream</td>\n",
              "      <td>242.0</td>\n",
              "      <td>25.4</td>\n",
              "      <td>30.0</td>\n",
              "      <td>11.5200</td>\n",
              "      <td>4.0200</td>\n",
              "    </tr>\n",
              "    <tr>\n",
              "      <th>1</th>\n",
              "      <td>Bream</td>\n",
              "      <td>290.0</td>\n",
              "      <td>26.3</td>\n",
              "      <td>31.2</td>\n",
              "      <td>12.4800</td>\n",
              "      <td>4.3056</td>\n",
              "    </tr>\n",
              "    <tr>\n",
              "      <th>2</th>\n",
              "      <td>Bream</td>\n",
              "      <td>340.0</td>\n",
              "      <td>26.5</td>\n",
              "      <td>31.1</td>\n",
              "      <td>12.3778</td>\n",
              "      <td>4.6961</td>\n",
              "    </tr>\n",
              "    <tr>\n",
              "      <th>3</th>\n",
              "      <td>Bream</td>\n",
              "      <td>363.0</td>\n",
              "      <td>29.0</td>\n",
              "      <td>33.5</td>\n",
              "      <td>12.7300</td>\n",
              "      <td>4.4555</td>\n",
              "    </tr>\n",
              "    <tr>\n",
              "      <th>4</th>\n",
              "      <td>Bream</td>\n",
              "      <td>430.0</td>\n",
              "      <td>29.0</td>\n",
              "      <td>34.0</td>\n",
              "      <td>12.4440</td>\n",
              "      <td>5.1340</td>\n",
              "    </tr>\n",
              "  </tbody>\n",
              "</table>\n",
              "</div>"
            ],
            "text/plain": [
              "  Species  Weight  Length  Diagonal   Height   Width\n",
              "0   Bream   242.0    25.4      30.0  11.5200  4.0200\n",
              "1   Bream   290.0    26.3      31.2  12.4800  4.3056\n",
              "2   Bream   340.0    26.5      31.1  12.3778  4.6961\n",
              "3   Bream   363.0    29.0      33.5  12.7300  4.4555\n",
              "4   Bream   430.0    29.0      34.0  12.4440  5.1340"
            ]
          },
          "metadata": {
            "tags": []
          },
          "execution_count": 1
        }
      ]
    },
    {
      "cell_type": "code",
      "metadata": {
        "colab": {
          "base_uri": "https://localhost:8080/"
        },
        "id": "ghn-CXbiylDP",
        "outputId": "29024f1e-d8cf-4932-d179-73317d2c6f0c"
      },
      "source": [
        "# 특정열에서 고유한 값을 추출\n",
        "print(pd.unique(fish['Species']))"
      ],
      "execution_count": 2,
      "outputs": [
        {
          "output_type": "stream",
          "text": [
            "['Bream' 'Roach' 'Whitefish' 'Parkki' 'Perch' 'Pike' 'Smelt']\n"
          ],
          "name": "stdout"
        }
      ]
    },
    {
      "cell_type": "code",
      "metadata": {
        "colab": {
          "base_uri": "https://localhost:8080/"
        },
        "id": "uqj5az6by15s",
        "outputId": "4b031d3b-e4b3-40ee-8e65-1868cc6c9fa7"
      },
      "source": [
        "# Species를 분류하는 문제 -> Species = target data, 나머지 열들 = input data\n",
        "\n",
        "# 입력데이터가 될 DataFrame의 열들을 선정해서 넘파이 배열로 바꾸어 저장\n",
        "fish_input = fish[['Weight', 'Length', 'Diagonal', 'Height', 'Width']].to_numpy()\n",
        "print(fish_input[:5])"
      ],
      "execution_count": 3,
      "outputs": [
        {
          "output_type": "stream",
          "text": [
            "[[242.      25.4     30.      11.52     4.02  ]\n",
            " [290.      26.3     31.2     12.48     4.3056]\n",
            " [340.      26.5     31.1     12.3778   4.6961]\n",
            " [363.      29.      33.5     12.73     4.4555]\n",
            " [430.      29.      34.      12.444    5.134 ]]\n"
          ],
          "name": "stdout"
        }
      ]
    },
    {
      "cell_type": "code",
      "metadata": {
        "id": "5HHDk_Fp0j9B"
      },
      "source": [
        "# 타깃데이터를 넘파이 배열로 저장\n",
        "fish_target = fish['Species'].to_numpy()"
      ],
      "execution_count": 4,
      "outputs": []
    },
    {
      "cell_type": "code",
      "metadata": {
        "id": "Q5tcI_AR0v6j"
      },
      "source": [
        "from sklearn.model_selection import train_test_split\n",
        "# 훈련 셋과 테스트 셋을 랜덤하게 섞어서 테스트셋이 25%가 되게 분할\n",
        "train_input, test_input, train_target, test_target = train_test_split(fish_input, fish_target, random_state=42)"
      ],
      "execution_count": 5,
      "outputs": []
    },
    {
      "cell_type": "code",
      "metadata": {
        "id": "LjpNdILG0_qR"
      },
      "source": [
        "from sklearn.preprocessing import StandardScaler\n",
        "ss = StandardScaler()\n",
        "ss.fit(train_input)\n",
        "train_scaled = ss.transform(train_input)\n",
        "test_scaled = ss.transform(test_input)"
      ],
      "execution_count": 6,
      "outputs": []
    },
    {
      "cell_type": "code",
      "metadata": {
        "colab": {
          "base_uri": "https://localhost:8080/"
        },
        "id": "9Nl7Sdb23RW8",
        "outputId": "1fd52c24-553d-480e-c8cf-d65dd27d1c2d"
      },
      "source": [
        "# K-최근접 이웃 분류기의 확률 예측\n",
        "from sklearn.neighbors import KNeighborsClassifier\n",
        "kn = KNeighborsClassifier(n_neighbors=3)\n",
        "kn.fit(train_scaled, train_target)\n",
        "print(kn.score(train_scaled, train_target))\n",
        "print(kn.score(test_scaled, test_target))"
      ],
      "execution_count": 7,
      "outputs": [
        {
          "output_type": "stream",
          "text": [
            "0.8907563025210085\n",
            "0.85\n"
          ],
          "name": "stdout"
        }
      ]
    },
    {
      "cell_type": "code",
      "metadata": {
        "colab": {
          "base_uri": "https://localhost:8080/"
        },
        "id": "sEy-NOlo5SgR",
        "outputId": "e06fedb2-4795-45cd-f33f-7e9f73b84fc7"
      },
      "source": [
        "# 정렬된 타깃값 출력\n",
        "print(kn.classes_) # 디폴트 : 알파벳순"
      ],
      "execution_count": 8,
      "outputs": [
        {
          "output_type": "stream",
          "text": [
            "['Bream' 'Parkki' 'Perch' 'Pike' 'Roach' 'Smelt' 'Whitefish']\n"
          ],
          "name": "stdout"
        }
      ]
    },
    {
      "cell_type": "code",
      "metadata": {
        "colab": {
          "base_uri": "https://localhost:8080/"
        },
        "id": "CC9a4dPOGYbc",
        "outputId": "fa87dc68-c02c-4f41-fc92-fc9d258eb5e2"
      },
      "source": [
        "print(kn.predict(test_scaled[:5]))"
      ],
      "execution_count": 9,
      "outputs": [
        {
          "output_type": "stream",
          "text": [
            "['Perch' 'Smelt' 'Pike' 'Perch' 'Perch']\n"
          ],
          "name": "stdout"
        }
      ]
    },
    {
      "cell_type": "code",
      "metadata": {
        "colab": {
          "base_uri": "https://localhost:8080/"
        },
        "id": "N4FVNgxrGiev",
        "outputId": "8fd55d0c-1598-4204-9a60-3dd6365c42fc"
      },
      "source": [
        "import numpy as np\n",
        "proba = kn.predict_proba(test_scaled[:5])\n",
        "print(np.round(proba, decimals=4)) # 소수점 넷째 자리까지 표기 (다섯째 자리에서 반올림) : 디폴트는 소수점 첫번째 자리에서 반올림"
      ],
      "execution_count": 10,
      "outputs": [
        {
          "output_type": "stream",
          "text": [
            "[[0.     0.     1.     0.     0.     0.     0.    ]\n",
            " [0.     0.     0.     0.     0.     1.     0.    ]\n",
            " [0.     0.     0.     1.     0.     0.     0.    ]\n",
            " [0.     0.     0.6667 0.     0.3333 0.     0.    ]\n",
            " [0.     0.     0.6667 0.     0.3333 0.     0.    ]]\n"
          ],
          "name": "stdout"
        }
      ]
    },
    {
      "cell_type": "code",
      "metadata": {
        "colab": {
          "base_uri": "https://localhost:8080/"
        },
        "id": "fegBBb5RHpCm",
        "outputId": "d3830171-5205-4d6f-f211-3efc0ca84b03"
      },
      "source": [
        "# 네번째 샘플의 최근접 이웃의 클래스 확인\n",
        "distance, indexes = kn.kneighbors(test_scaled[3:4])\n",
        "print(train_target[indexes])\n",
        "# 결과) Roach일 확률이 1/3, Perch일 확률이 2/3 \n",
        "\n",
        "# 하지만, 최근접이웃은 k개의 개수에 따라서 나올 확률이 0/k, 1/k, 2/k, ...,  k/k로 정해지니 정확한 확률이라고 하긴 좀 어색하다."
      ],
      "execution_count": 11,
      "outputs": [
        {
          "output_type": "stream",
          "text": [
            "[['Roach' 'Perch' 'Perch']]\n"
          ],
          "name": "stdout"
        }
      ]
    },
    {
      "cell_type": "markdown",
      "metadata": {
        "id": "hFy6J-7TIVL9"
      },
      "source": [
        "### 로지스틱 회귀 Logisitic Regression\n",
        "\n",
        "Y가 범주형 변수일 때 선형 회귀 모델을 사용할 수 없다.   \n",
        "선형 회귀 모델의 장점은 그대로 유지하되 Y가 범주가 아니라 (0,1) 사이의 값을 가질 확률로 두고 식을 세운 모형  \n",
        "with 시그모이드 함수sigmoid function = 로지스틱 함수logistic function\n",
        "\n",
        "시그모이드 함수 : 출력 z의 음수를 사용해 자연상수 e를 거듭제곱하고 1을 더한 값을 역수로 취한다.(z가 무한하게 큰 음수일때 이 함수는 0에 가까워지고, 무한하게 큰 양수가 될 때 1에 가까워 진다. z가 0일 때 0.5) \n",
        "\n",
        "- 시그모이드 함수는 하나의 선형 방정식의 출력값을 0~1 사이로 압축 = 이진분류에서 z값을 확률로 변환\n",
        "\n",
        "- predict_proba() 메서드로 클래스별 확률값을 반환\n",
        "- classes_ 속성에 타깃값이 알파벳순으로 들어있음\n",
        "- decision_function()으로 z값 출력 = 양성클래스에 대한 z값  \n",
        "  = predict_proba() 메서드의 두번째 열의 값\n",
        "- 분류 확률 : expit(lr.decision_function(훈련 데이터셋))"
      ]
    },
    {
      "cell_type": "code",
      "metadata": {
        "colab": {
          "base_uri": "https://localhost:8080/",
          "height": 265
        },
        "id": "1L3DElF8_b1k",
        "outputId": "4bcb6109-5286-4c9a-9a5b-250ee8074d3a"
      },
      "source": [
        "import numpy as np\n",
        "import matplotlib.pyplot as plt\n",
        "z = np.arange(-5, 5, 0.1)\n",
        "phi = 1 / (1 + np.exp(-z)) # sigmoid function\n",
        "plt.plot(z, phi)\n",
        "\n",
        "plt.show()"
      ],
      "execution_count": 12,
      "outputs": [
        {
          "output_type": "display_data",
          "data": {
            "image/png": "[encoded data removed]",
            "text/plain": [
              "<Figure size 432x288 with 1 Axes>"
            ]
          },
          "metadata": {
            "tags": [],
            "needs_background": "light"
          }
        }
      ]
    },
    {
      "cell_type": "markdown",
      "metadata": {
        "id": "f_XwUw2XE4p5"
      },
      "source": [
        "#### 로지스틱 회귀 : 이진 분류\n",
        "- 이진 분류의 경우 시그모이드 함수의 출력이 0.5보다 크면 양성, 0.5보다 작으면 음성 클래스로 판단  \n",
        "(0.5인 경우에는 라이브러리마다 다르지만, 사이킷런은 일단 음성 클래스로 분류)\n"
      ]
    },
    {
      "cell_type": "code",
      "metadata": {
        "colab": {
          "base_uri": "https://localhost:8080/"
        },
        "id": "dJxL0ajdEZ9K",
        "outputId": "acd3949f-42fb-4fc0-ca3c-50f300dbdbf0"
      },
      "source": [
        "char_arr = np.array(['A', 'B', 'C', 'D', 'E'])\n",
        "# 'A'와 'C'만 골라내기 위해 첫 번째와 세 번째 원소만 True이고 나머지 원소는 모두 False인 배열을 전달\n",
        "print(char_arr[[True, False, True, False, False]]) # 불리언 인데싱boolean indexing"
      ],
      "execution_count": 13,
      "outputs": [
        {
          "output_type": "stream",
          "text": [
            "['A' 'C']\n"
          ],
          "name": "stdout"
        }
      ]
    },
    {
      "cell_type": "code",
      "metadata": {
        "id": "pM-YgzmuIDPl"
      },
      "source": [
        "# 훈련셋에서 Bream도미와 Smelt빙어의 행만 골라내기\n",
        "bream_smelt_indexes = (train_target == 'Bream') | (train_target == 'Smelt')\n",
        "train_bream_smelt = train_scaled[bream_smelt_indexes]  # bream_smelt_indexes가 True인 값 인덱싱되어 변수에 저장된다.\n",
        "target_bream_smelt = train_target[bream_smelt_indexes]"
      ],
      "execution_count": 14,
      "outputs": []
    },
    {
      "cell_type": "code",
      "metadata": {
        "colab": {
          "base_uri": "https://localhost:8080/"
        },
        "id": "0vSMKa0wZ7r3",
        "outputId": "73c89fb1-939e-4102-f5a2-d84b957df6c6"
      },
      "source": [
        "from sklearn.linear_model import LogisticRegression\n",
        "lr = LogisticRegression()\n",
        "lr.fit(train_bream_smelt, target_bream_smelt)\n",
        "\n",
        "# 처음 5개의 샘플 예측\n",
        "print(lr.predict(train_bream_smelt[:5])) "
      ],
      "execution_count": 15,
      "outputs": [
        {
          "output_type": "stream",
          "text": [
            "['Bream' 'Smelt' 'Bream' 'Bream' 'Bream']\n"
          ],
          "name": "stdout"
        }
      ]
    },
    {
      "cell_type": "code",
      "metadata": {
        "colab": {
          "base_uri": "https://localhost:8080/"
        },
        "id": "P_zsuZb-aJlo",
        "outputId": "d63e8318-8df8-4abc-8fd5-11f2ed2c1dba"
      },
      "source": [
        "# 예측확률은 predict_proba() 메서드에서 확인가능\n",
        "print(lr.predict_proba(train_bream_smelt[:5])) \n",
        "# 출력 결과 = [음성 클래스일 확률, 양성 클래스일 확률] (타깃값 알파벳순으로 할당; 이 경우에는 Bream, Smelt순) "
      ],
      "execution_count": 16,
      "outputs": [
        {
          "output_type": "stream",
          "text": [
            "[[0.99759855 0.00240145]\n",
            " [0.02735183 0.97264817]\n",
            " [0.99486072 0.00513928]\n",
            " [0.98584202 0.01415798]\n",
            " [0.99767269 0.00232731]]\n"
          ],
          "name": "stdout"
        }
      ]
    },
    {
      "cell_type": "code",
      "metadata": {
        "colab": {
          "base_uri": "https://localhost:8080/"
        },
        "id": "jrxi9NNecxN0",
        "outputId": "ec0365f2-ddeb-4386-cf04-ee9951fc699e"
      },
      "source": [
        "# 정렬된 타깃값은 classes_속성에 알파벳순으로 들어있음\n",
        "  # 순서를 변경하려면 Bream인 타깃값을 1로 만들고 나머지 타깃값은 0으로 만들어서 사용하면 됨\n",
        "print(lr.classes_)"
      ],
      "execution_count": 17,
      "outputs": [
        {
          "output_type": "stream",
          "text": [
            "['Bream' 'Smelt']\n"
          ],
          "name": "stdout"
        }
      ]
    },
    {
      "cell_type": "code",
      "metadata": {
        "colab": {
          "base_uri": "https://localhost:8080/"
        },
        "id": "slXnjm04dN7S",
        "outputId": "396a73ea-2ef3-4103-d4ff-8b156e8aed65"
      },
      "source": [
        "# 각 설명변수의 계수와 절편값 구하기\n",
        "print(lr.coef_, lr.intercept_)\n",
        "# 결과) z = -0.404*(weight) - 0.576*(length)-0.663*(Diagonal) - 1.103*(Height)-0.732*(Width)-2.161"
      ],
      "execution_count": 18,
      "outputs": [
        {
          "output_type": "stream",
          "text": [
            "[[-0.4037798  -0.57620209 -0.66280298 -1.01290277 -0.73168947]] [-2.16155132]\n"
          ],
          "name": "stdout"
        }
      ]
    },
    {
      "cell_type": "code",
      "metadata": {
        "colab": {
          "base_uri": "https://localhost:8080/"
        },
        "id": "UYgyZOIHhG7M",
        "outputId": "d996af76-43f2-4854-fc3f-996f764ee558"
      },
      "source": [
        "# decision_function()으로 z값 출력 -> 양성클래스에 대한 z값을 반환한다! (predict_proba() 메서드의 두번째 열의 값)\n",
        "decisions = lr.decision_function(train_bream_smelt[:5])\n",
        "print(decisions)"
      ],
      "execution_count": 20,
      "outputs": [
        {
          "output_type": "stream",
          "text": [
            "[-6.02927744  3.57123907 -5.26568906 -4.24321775 -6.0607117 ]\n"
          ],
          "name": "stdout"
        }
      ]
    },
    {
      "cell_type": "code",
      "metadata": {
        "colab": {
          "base_uri": "https://localhost:8080/"
        },
        "id": "SNI_9STpmIQE",
        "outputId": "b1d25674-764b-47a8-f5cf-6307f79430b3"
      },
      "source": [
        "# 분류 확률 : expit(lr.decision_function(훈련 데이터셋)) -> 여기선 양성 클래스로 분류할 확률\n",
        "  # expit()으로 z값을 시그모이드 함수에 넣어 확률 출력 (np.exp()를 사용해 분수 계산하는것보다 편리하고 안전)\n",
        "from scipy.special import expit\n",
        "print(expit(decisions))\n",
        "# 결과) predict_proba() 메서드의 두번째 열의 값과 동일! "
      ],
      "execution_count": 21,
      "outputs": [
        {
          "output_type": "stream",
          "text": [
            "[0.00240145 0.97264817 0.00513928 0.01415798 0.00232731]\n"
          ],
          "name": "stdout"
        }
      ]
    },
    {
      "cell_type": "markdown",
      "metadata": {
        "id": "9H4ONgdEvn-W"
      },
      "source": [
        "#### 로지스틱 회귀 : 다중 분류\n",
        "\n",
        "- 반복 횟수  \n",
        "LogisticRegression 클래스는 기본적으로 반복적인 알고리즘을 사용  \n",
        "max_iter 매개변수에서 반복 횟수 지정(default=100)  \n",
        "횟수가 부족하다는 경고가 발생하면 따로 지정\n",
        "\n",
        "- L2 규제 : 로지스틱 회귀, 릿지 회귀에서의 규제 방법\n",
        "  * 릿지 회귀 : alpha 매개변수가 커지면 규제도 커짐\n",
        "  * 로지스틱 회귀 : C의 값이 작을수록 규제가 커짐 (C 기본값 = 1)\n",
        "\n",
        "- 소프트맥스softmax 함수(= 정규화 지수 함수)를 사용해서 z값을 확률로 변환한다.  \n",
        "소프트맥스 함수는 여러 개의 선형 방정식의 출력값을 지수함수를 사용해 0~1사이 값으로 압축하고 전체 합이 1이 되도록 만든다. \n"
      ]
    },
    {
      "cell_type": "code",
      "metadata": {
        "colab": {
          "base_uri": "https://localhost:8080/"
        },
        "id": "fMYF4n5Zn64B",
        "outputId": "a556a693-44ba-4869-bfe8-4b6a103762c2"
      },
      "source": [
        "lr = LogisticRegression(C=20, max_iter=1000) # 분류하는 그룹이 많으니 규제도 풀어주고, 반복횟수도 늘려준다.\n",
        "lr.fit(train_scaled, train_target)\n",
        "print(lr.score(train_scaled, train_target))\n",
        "print(lr.score(test_scaled, test_target))\n",
        "# 결과) 과소도 과대적합도 아닌것 같다."
      ],
      "execution_count": 22,
      "outputs": [
        {
          "output_type": "stream",
          "text": [
            "0.9327731092436975\n",
            "0.925\n"
          ],
          "name": "stdout"
        }
      ]
    },
    {
      "cell_type": "code",
      "metadata": {
        "colab": {
          "base_uri": "https://localhost:8080/"
        },
        "id": "hktCI3ceh9Lk",
        "outputId": "8131adee-11a1-4792-eeff-fbd2227eee0e"
      },
      "source": [
        "print(lr.predict(test_scaled[:5]))"
      ],
      "execution_count": 23,
      "outputs": [
        {
          "output_type": "stream",
          "text": [
            "['Perch' 'Smelt' 'Pike' 'Roach' 'Perch']\n"
          ],
          "name": "stdout"
        }
      ]
    },
    {
      "cell_type": "code",
      "metadata": {
        "colab": {
          "base_uri": "https://localhost:8080/"
        },
        "id": "oemKsLrjtP7L",
        "outputId": "ffdbc47e-908f-4d7f-c8ec-4d0889c70871"
      },
      "source": [
        "# 테스트 셋 처음 5개의 새플에 대한 예측 확률 출력 \n",
        "proba = lr.predict_proba(test_scaled[:5])\n",
        "print(np.round(proba, decimals=3)) # 출력 간소화를 위해 소숫점 셋째 자리까지 반올림 "
      ],
      "execution_count": 24,
      "outputs": [
        {
          "output_type": "stream",
          "text": [
            "[[0.    0.014 0.841 0.    0.136 0.007 0.003]\n",
            " [0.    0.003 0.044 0.    0.007 0.946 0.   ]\n",
            " [0.    0.    0.034 0.935 0.015 0.016 0.   ]\n",
            " [0.011 0.034 0.306 0.007 0.567 0.    0.076]\n",
            " [0.    0.    0.904 0.002 0.089 0.002 0.001]]\n"
          ],
          "name": "stdout"
        }
      ]
    },
    {
      "cell_type": "code",
      "metadata": {
        "colab": {
          "base_uri": "https://localhost:8080/"
        },
        "id": "B4HPozsHtfFi",
        "outputId": "ec5faf12-10cf-43ac-eb5e-1df2bc43d84b"
      },
      "source": [
        "# 클래스 정보 확인\n",
        "print(lr.classes_)"
      ],
      "execution_count": 25,
      "outputs": [
        {
          "output_type": "stream",
          "text": [
            "['Bream' 'Parkki' 'Perch' 'Pike' 'Roach' 'Smelt' 'Whitefish']\n"
          ],
          "name": "stdout"
        }
      ]
    },
    {
      "cell_type": "code",
      "metadata": {
        "colab": {
          "base_uri": "https://localhost:8080/"
        },
        "id": "Hpzo5uPrtq6_",
        "outputId": "34a81082-a0b2-427f-b236-6dd8390ed29b"
      },
      "source": [
        "print(lr.coef_.shape, lr.intercept_.shape)\n",
        "# 다중 분류는 클래스마다 z값을 하나씩 계산한다. 그 중에서 가장 높은 z값을 출력하는 클래스가 예측 클래스가 되는 것"
      ],
      "execution_count": 26,
      "outputs": [
        {
          "output_type": "stream",
          "text": [
            "(7, 5) (7,)\n"
          ],
          "name": "stdout"
        }
      ]
    },
    {
      "cell_type": "code",
      "metadata": {
        "colab": {
          "base_uri": "https://localhost:8080/"
        },
        "id": "4dR2mL9tuemv",
        "outputId": "d640625c-3968-4d9c-b54e-06548ddc3569"
      },
      "source": [
        "print(lr.coef_)"
      ],
      "execution_count": 28,
      "outputs": [
        {
          "output_type": "stream",
          "text": [
            "[[-1.49002911 -1.02919221  2.59351113  7.70354318 -1.20068079]\n",
            " [ 0.19619256 -2.0106062  -3.77982687  6.50490143 -1.99486463]\n",
            " [ 3.56278472  6.34361428 -8.48973364 -5.75756295  3.79309039]\n",
            " [-0.10458533  3.60316654  3.93067417 -3.61731229 -1.75070607]\n",
            " [-1.40059104 -6.07505264  5.25967743 -0.87222909  1.86043657]\n",
            " [-1.38528628  1.49217379  1.3922839  -5.67732641 -4.40095877]\n",
            " [ 0.62151448 -2.32410356 -0.90658611  1.71598614  3.69368329]]\n"
          ],
          "name": "stdout"
        }
      ]
    },
    {
      "cell_type": "code",
      "metadata": {
        "colab": {
          "base_uri": "https://localhost:8080/"
        },
        "id": "NEEH1wmvuhaD",
        "outputId": "b9edd705-a8b6-42ba-c15e-53a9106bf70c"
      },
      "source": [
        "print(lr.intercept_)"
      ],
      "execution_count": 29,
      "outputs": [
        {
          "output_type": "stream",
          "text": [
            "[-0.09204845 -0.26290731  3.25101057 -0.14742485  2.65496057 -6.78780765\n",
            "  1.38421712]\n"
          ],
          "name": "stdout"
        }
      ]
    },
    {
      "cell_type": "code",
      "metadata": {
        "colab": {
          "base_uri": "https://localhost:8080/"
        },
        "id": "e2H0Pomouow-",
        "outputId": "0cded22d-0940-4089-c2d0-0856ad9451e5"
      },
      "source": [
        "# decision_function으로 z1~z7까지의 값구하기\n",
        "decision = lr.decision_function(test_scaled[:5])\n",
        "print(np.round(decision, decimals=2))"
      ],
      "execution_count": 30,
      "outputs": [
        {
          "output_type": "stream",
          "text": [
            "[[ -6.5    1.03   5.16  -2.73   3.34   0.33  -0.63]\n",
            " [-10.86   1.93   4.77  -2.4    2.98   7.84  -4.26]\n",
            " [ -4.34  -6.23   3.17   6.49   2.36   2.42  -3.87]\n",
            " [ -0.68   0.45   2.65  -1.19   3.26  -5.75   1.26]\n",
            " [ -6.4   -1.99   5.82  -0.11   3.5   -0.11  -0.71]]\n"
          ],
          "name": "stdout"
        }
      ]
    },
    {
      "cell_type": "code",
      "metadata": {
        "colab": {
          "base_uri": "https://localhost:8080/"
        },
        "id": "hDhABVr_wbzD",
        "outputId": "c8ecb06d-8ba0-4f8e-88d9-6607f3169b7e"
      },
      "source": [
        "# 소프트맥스softmax 함수를 사용해서 z값을 확률로 변환 (이진 분류에서는 sigmoid function)\n",
        "from scipy.special import softmax\n",
        "proba = softmax(decision, axis=1)\n",
        "print(np.round(proba, decimals=3))"
      ],
      "execution_count": 31,
      "outputs": [
        {
          "output_type": "stream",
          "text": [
            "[[0.    0.014 0.841 0.    0.136 0.007 0.003]\n",
            " [0.    0.003 0.044 0.    0.007 0.946 0.   ]\n",
            " [0.    0.    0.034 0.935 0.015 0.016 0.   ]\n",
            " [0.011 0.034 0.306 0.007 0.567 0.    0.076]\n",
            " [0.    0.    0.904 0.002 0.089 0.002 0.001]]\n"
          ],
          "name": "stdout"
        }
      ]
    },
    {
      "cell_type": "code",
      "metadata": {
        "id": "S5p9CgJiwoNO"
      },
      "source": [
        ""
      ],
      "execution_count": null,
      "outputs": []
    }
  ]
}