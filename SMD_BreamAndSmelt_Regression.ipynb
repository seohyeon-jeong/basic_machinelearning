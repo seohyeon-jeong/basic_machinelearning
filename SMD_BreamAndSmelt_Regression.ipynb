{
  "nbformat": 4,
  "nbformat_minor": 0,
  "metadata": {
    "colab": {
      "name": "SMD_BreamAndSmelt_Regression.ipynb",
      "provenance": [],
      "collapsed_sections": [],
      "toc_visible": true,
      "authorship_tag": "ABX9TyOyqgoLHyTnFCJIFNFyIX7m",
      "include_colab_link": true
    },
    "kernelspec": {
      "name": "python3",
      "display_name": "Python 3"
    }
  },
  "cells": [
    {
      "cell_type": "markdown",
      "metadata": {
        "id": "view-in-github",
        "colab_type": "text"
      },
      "source": [
        "<a href=\"https://colab.research.google.com/github/seohyeon-jeong/basic_machinelearning/blob/main/SMD_BreamAndSmelt_Regression.ipynb\" target=\"_parent\"><img src=\"https://colab.research.google.com/assets/colab-badge.svg\" alt=\"Open In Colab\"/></a>"
      ]
    },
    {
      "cell_type": "markdown",
      "metadata": {
        "id": "3jUgjm9Hwyy6"
      },
      "source": [
        "### k-nearest neigbors Regression\n",
        "\n",
        "- 지도학습 알고리즘은 크게 '회귀'와 '분류'로 나뉜다.\n",
        "  - 회귀 : 두 변수 사이의 상관관계를 분석하는 방법\n",
        "\n",
        "- k-최근접 이웃 회귀 :  \n",
        "예측하려는 샘플에 가장 가까운 샘플 k개를 선택하여 이 수치들의 타깃값을 평균하여 예측으로 삼는다.(타깃이 임의의 수치)\n",
        "\n",
        "- k-최근접 이웃 분류 :  \n",
        "예측하려는 샘플에 가장 가까운 샘플 k개를 선택하고 이 샘플들의 클래스를 확인하여 다수 클래스를 새로운 샘플의 클래스로 예측한다. (타깃이 클래스)"
      ]
    },
    {
      "cell_type": "markdown",
      "metadata": {
        "id": "_-Cj_BiVHs_U"
      },
      "source": [
        "#### K-NN Regression 모델 구현"
      ]
    },
    {
      "cell_type": "code",
      "metadata": {
        "id": "76kGjn4JyJbI"
      },
      "source": [
        "# 농어의 길이로 무게 예측\n",
        "import numpy as np"
      ],
      "execution_count": 1,
      "outputs": []
    },
    {
      "cell_type": "code",
      "metadata": {
        "id": "Z3nRR8nFy32z"
      },
      "source": [
        "# 데이터 준비\n",
        "perch_length = np.array(\n",
        "    [8.4, 13.7, 15.0, 16.2, 17.4, 18.0, 18.7, 19.0, 19.6, 20.0, \n",
        "     21.0, 21.0, 21.0, 21.3, 22.0, 22.0, 22.0, 22.0, 22.0, 22.5, \n",
        "     22.5, 22.7, 23.0, 23.5, 24.0, 24.0, 24.6, 25.0, 25.6, 26.5, \n",
        "     27.3, 27.5, 27.5, 27.5, 28.0, 28.7, 30.0, 32.8, 34.5, 35.0, \n",
        "     36.5, 36.0, 37.0, 37.0, 39.0, 39.0, 39.0, 40.0, 40.0, 40.0, \n",
        "     40.0, 42.0, 43.0, 43.0, 43.5, 44.0]\n",
        "     )\n",
        "perch_weight = np.array(\n",
        "    [5.9, 32.0, 40.0, 51.5, 70.0, 100.0, 78.0, 80.0, 85.0, 85.0, \n",
        "     110.0, 115.0, 125.0, 130.0, 120.0, 120.0, 130.0, 135.0, 110.0, \n",
        "     130.0, 150.0, 145.0, 150.0, 170.0, 225.0, 145.0, 188.0, 180.0, \n",
        "     197.0, 218.0, 300.0, 260.0, 265.0, 250.0, 250.0, 300.0, 320.0, \n",
        "     514.0, 556.0, 840.0, 685.0, 700.0, 700.0, 690.0, 900.0, 650.0, \n",
        "     820.0, 850.0, 900.0, 1015.0, 820.0, 1100.0, 1000.0, 1100.0, \n",
        "     1000.0, 1000.0]\n",
        "     )"
      ],
      "execution_count": 2,
      "outputs": []
    },
    {
      "cell_type": "code",
      "metadata": {
        "id": "zVVOekj-y7AA"
      },
      "source": [
        "import matplotlib.pyplot as plt"
      ],
      "execution_count": 3,
      "outputs": []
    },
    {
      "cell_type": "code",
      "metadata": {
        "colab": {
          "base_uri": "https://localhost:8080/",
          "height": 279
        },
        "id": "aBcxQ0w7y7yx",
        "outputId": "d2879416-47d2-42a0-9c32-469702d4cb39"
      },
      "source": [
        "# 산점도로 데이터의 형태 파악\n",
        "plt.scatter(perch_length, perch_weight)\n",
        "plt.xlabel('length')\n",
        "plt.ylabel('weight')\n",
        "plt.show()"
      ],
      "execution_count": 4,
      "outputs": [
        {
          "output_type": "display_data",
          "data": {
            "image/png": "[encoded data removed]",
            "text/plain": [
              "<Figure size 432x288 with 1 Axes>"
            ]
          },
          "metadata": {
            "tags": [],
            "needs_background": "light"
          }
        }
      ]
    },
    {
      "cell_type": "code",
      "metadata": {
        "id": "MeYKNq-wzPa3"
      },
      "source": [
        "from sklearn.model_selection import train_test_split"
      ],
      "execution_count": 5,
      "outputs": []
    },
    {
      "cell_type": "code",
      "metadata": {
        "id": "-o5_1V8zzJuJ"
      },
      "source": [
        "# 훈련 세트와 테스트 세트로 나누기\n",
        "train_input, test_input, train_target, test_target = train_test_split(perch_length, perch_weight, random_state=42)"
      ],
      "execution_count": 6,
      "outputs": []
    },
    {
      "cell_type": "code",
      "metadata": {
        "colab": {
          "base_uri": "https://localhost:8080/"
        },
        "id": "wA7R1WNTzcGY",
        "outputId": "2ab6f3f7-724e-437b-f834-66fd96a58875"
      },
      "source": [
        "# perch_length는 1차원 배열 -> train, test set도 1차원 배열 \n",
        "perch_length.shape"
      ],
      "execution_count": 7,
      "outputs": [
        {
          "output_type": "execute_result",
          "data": {
            "text/plain": [
              "(56,)"
            ]
          },
          "metadata": {
            "tags": []
          },
          "execution_count": 7
        }
      ]
    },
    {
      "cell_type": "code",
      "metadata": {
        "colab": {
          "base_uri": "https://localhost:8080/"
        },
        "id": "qsp_2WnNzujr",
        "outputId": "fda416b6-2497-4f2f-cef3-0d3c0633013b"
      },
      "source": [
        "# 사이킷런은 2차원 배열만 취급한다. 따라서 1차원 배열을 1개의 열이 있는 2차원 배열로 바꾸어야 한다.\n",
        "# np.reshape() : 바꾸려는 배열의 크기 지정\n",
        "train_input = train_input.reshape(-1,1) # 열이 1개인 2차원배열\n",
        "test_input = test_input.reshape(-1,1)\n",
        "print(train_input.shape, test_input.shape)"
      ],
      "execution_count": 8,
      "outputs": [
        {
          "output_type": "stream",
          "text": [
            "(42, 1) (14, 1)\n"
          ],
          "name": "stdout"
        }
      ]
    },
    {
      "cell_type": "code",
      "metadata": {
        "id": "cznP89Xq0d42"
      },
      "source": [
        "# k-최근접 이웃 회귀 알고리즘을 구현한 클래스\n",
        "from sklearn.neighbors import KNeighborsRegressor"
      ],
      "execution_count": 9,
      "outputs": []
    },
    {
      "cell_type": "code",
      "metadata": {
        "colab": {
          "base_uri": "https://localhost:8080/"
        },
        "id": "G-KDq5fa04c9",
        "outputId": "61db9402-36e7-4c2d-977d-f9c691c1514c"
      },
      "source": [
        "knr = KNeighborsRegressor() # 클래스 객체 만들기\n",
        "\n",
        "# k-최근접 이웃 회귀 모델 훈련\n",
        "knr.fit(train_input, train_target)"
      ],
      "execution_count": 10,
      "outputs": [
        {
          "output_type": "execute_result",
          "data": {
            "text/plain": [
              "KNeighborsRegressor(algorithm='auto', leaf_size=30, metric='minkowski',\n",
              "                    metric_params=None, n_jobs=None, n_neighbors=5, p=2,\n",
              "                    weights='uniform')"
            ]
          },
          "metadata": {
            "tags": []
          },
          "execution_count": 10
        }
      ]
    },
    {
      "cell_type": "code",
      "metadata": {
        "colab": {
          "base_uri": "https://localhost:8080/"
        },
        "id": "Y1o1MaAO1BZm",
        "outputId": "123cf7b7-5414-4f83-bf2c-a2568691fbfe"
      },
      "source": [
        "print(knr.score(test_input, test_target))\n",
        "# score() : 사이킷런에서는 score()메서드가 출력하는 값은 높을수록 좋다. 정확도, 결정계수등\n",
        "  # 만약 에러율을 반환하는 경우는 이를 음수로 만들어 줄것"
      ],
      "execution_count": 11,
      "outputs": [
        {
          "output_type": "stream",
          "text": [
            "0.9928094061010639\n"
          ],
          "name": "stdout"
        }
      ]
    },
    {
      "cell_type": "markdown",
      "metadata": {
        "id": "VA3qPHqT1iXK"
      },
      "source": [
        "- 회귀 모델에서의 정확도 측정 : Coefficient of determination; R-squared = $R^2$  \n",
        "회귀에서는 분류와 달리 정확한 숫자를 맞히는 것은 거의 불가능하다. 예측하는 값이나 타깃 모두 임의의 수치이기 때문이다. 따라서 결정계수 $R^2$으로 모델을 평가한다. 예측이 타깃에 아주 가까워지면 분자가 0에 가까워지기 때문에 1에 가까운 값이 된다.  \n",
        " $R^2$ = 1 - ${\\frac{\\Sigma(타깃-예측)^2}{\\Sigma(타깃-평균)^2}}$"
      ]
    },
    {
      "cell_type": "code",
      "metadata": {
        "id": "nrXkwIH61FlX"
      },
      "source": [
        "# 평균절대오차 MAE로 타킷과 예측의 절대값오차를 평균하여 반환하여 타깃과 예측한 값 사이의 차이를 구해보자 (정량적평가)\n",
        "from sklearn.metrics import mean_absolute_error"
      ],
      "execution_count": 12,
      "outputs": []
    },
    {
      "cell_type": "code",
      "metadata": {
        "colab": {
          "base_uri": "https://localhost:8080/"
        },
        "id": "PbepBrBPAMlj",
        "outputId": "1b9f3bc8-0c34-4494-ab43-1d838b474196"
      },
      "source": [
        "# 테스트 세트에 대한 예측\n",
        "test_prediction = knr.predict(test_input)\n",
        "\n",
        "# 테스트 세트에 대한 평균 절댓값 오차를 계산\n",
        "mae = mean_absolute_error(test_target, test_prediction)\n",
        "print(mae)\n",
        "# 결과) 평균 19g정도 타깃값과 다르다고 알 수 있다. "
      ],
      "execution_count": 13,
      "outputs": [
        {
          "output_type": "stream",
          "text": [
            "19.157142857142862\n"
          ],
          "name": "stdout"
        }
      ]
    },
    {
      "cell_type": "code",
      "metadata": {
        "colab": {
          "base_uri": "https://localhost:8080/"
        },
        "id": "1QT3TG91AaqE",
        "outputId": "156b3c7c-2dcc-49b2-df92-58bb012d2033"
      },
      "source": [
        "# 훈련한 모델로 훈련세트의 R^2를 반환\n",
        "print(knr.score(train_input, train_target))\n",
        "# 결과) 테스트셋으로 모델을 평가한게 훈련셋으로 모델 평가한 것 보다 높다 .99>.96 -> 과소적합"
      ],
      "execution_count": 14,
      "outputs": [
        {
          "output_type": "stream",
          "text": [
            "0.9698823289099255\n"
          ],
          "name": "stdout"
        }
      ]
    },
    {
      "cell_type": "markdown",
      "metadata": {
        "id": "ost2F2uEDfjC"
      },
      "source": [
        "- 과대적합Overfitting : 훈련셋에서 점수가 굉장히 좋았는데 테스트셋에서 점수가 나쁜 경우\n",
        "    - 원인) 훈련셋에만 잘 맞는 모델이라 테스트 셋이나 새로운 샘플에 대한 예측을 만들때 동작을 잘 하지 않는 경우 \n",
        "- 과소적합Underfitting : 훈련셋 점수 < 테스트셋 점수 or 두 점수가 모두 다 낮은 경우\n",
        "    - 원인) 모델이 단순하여 훈련세트에 적절히 훈련되지 않은 경우\n",
        "    - 원인) 데이터가 적어서 테스트 세트가 훈련 세트의 특징을 다루지 한 경우"
      ]
    },
    {
      "cell_type": "code",
      "metadata": {
        "colab": {
          "base_uri": "https://localhost:8080/"
        },
        "id": "bjaqV8GaAunh",
        "outputId": "d6a8ee3d-60b5-4db8-9e94-e55322fa6534"
      },
      "source": [
        "# 과소적합을 해결하기 위해 모델의 복잡성을 늘리기 : K-최근접이웃의 알고리즘의 경우는 이웃의 개수를 줄이기 (이웃을 줄이면 국지적인 패턴에 민감해짐)\n",
        "\n",
        "# 이웃의 개수를 5->3으로 설정\n",
        "knr.n_neighbors = 3\n",
        "\n",
        "# 모델 재훈련\n",
        "knr.fit(train_input, train_target)\n",
        "# 훈련셋에 대한 평가\n",
        "print(knr.score(train_input, train_target))"
      ],
      "execution_count": 15,
      "outputs": [
        {
          "output_type": "stream",
          "text": [
            "0.9804899950518966\n"
          ],
          "name": "stdout"
        }
      ]
    },
    {
      "cell_type": "code",
      "metadata": {
        "colab": {
          "base_uri": "https://localhost:8080/"
        },
        "id": "JKVJIudnEdWq",
        "outputId": "42988a39-44a4-4ee5-89d2-72a623cc2caa"
      },
      "source": [
        "# 테스트셋에 대한 평가\n",
        "print(knr.score(test_input, test_target))\n",
        "# 결과) 테스트셋점수 < 훈련셋점수, 두 점수차이도 적으니 과대적합도 아님 -> OK!"
      ],
      "execution_count": 16,
      "outputs": [
        {
          "output_type": "stream",
          "text": [
            "0.974645996398761\n"
          ],
          "name": "stdout"
        }
      ]
    },
    {
      "cell_type": "code",
      "metadata": {
        "colab": {
          "base_uri": "https://localhost:8080/",
          "height": 761
        },
        "id": "5RVIBk_xEg7n",
        "outputId": "9a02a0f8-15fd-4249-ef24-b36151af7b55"
      },
      "source": [
        "# k-최근접 이웃 회귀 모델의 k값을 1, 5, 10으로 해서 훈련 + 농어의 길이를 5에서 45까지 바꾸어가며 예측을 만들어 그래프로 그려보기 \n",
        "\n",
        "knr = KNeighborsRegressor()\n",
        "\n",
        "# 농어의 길이 5부터 45까지, 2차원 넘파이배열로\n",
        "x = np.arange(5,45).reshape(-1,1) \n",
        "\n",
        "# 이웃의 크기 k = 1, 5, 10일때 예측 결과 그래프로 나타내기\n",
        "for n in [1,5,10]:\n",
        "  knr.n_neighbors = n # 이웃의 크기가 1,5,10인 경우 \n",
        "  knr.fit(train_input,train_target) # 기존의 모델 학습\n",
        "\n",
        "  # 지정된 범위 x에 대한 예측을 구하라\n",
        "  prediction = knr.predict(x) # 해당 범위의 값에 대한 예측\n",
        "\n",
        "  plt.scatter(train_input, train_target)\n",
        "  plt.plot(x, prediction)\n",
        "  plt.show()"
      ],
      "execution_count": 17,
      "outputs": [
        {
          "output_type": "display_data",
          "data": {
            "image/png": "[encoded data removed]",
            "text/plain": [
              "<Figure size 432x288 with 1 Axes>"
            ]
          },
          "metadata": {
            "tags": [],
            "needs_background": "light"
          }
        },
        {
          "output_type": "display_data",
          "data": {
            "image/png": "[encoded data removed]",
            "text/plain": [
              "<Figure size 432x288 with 1 Axes>"
            ]
          },
          "metadata": {
            "tags": [],
            "needs_background": "light"
          }
        },
        {
          "output_type": "display_data",
          "data": {
            "image/png": "[encoded data removed]",
            "text/plain": [
              "<Figure size 432x288 with 1 Axes>"
            ]
          },
          "metadata": {
            "tags": [],
            "needs_background": "light"
          }
        }
      ]
    },
    {
      "cell_type": "markdown",
      "metadata": {
        "id": "YnJD_ECQHg4c"
      },
      "source": [
        "#### K-NN Regression의 한계  \n",
        "훈련셋 범위 밖의 샘플을 예측할 수 없다.  \n",
        "K-NN 회귀는 아무리 멀리 떨어져 있더라도 무조건 가장 가까운 샘플의 타깃을 평균하여 예측하기 때문"
      ]
    },
    {
      "cell_type": "code",
      "metadata": {
        "id": "zl8X2_qpHW4o"
      },
      "source": [
        "import numpy as np\n",
        "\n",
        "perch_length = np.array(\n",
        "    [8.4, 13.7, 15.0, 16.2, 17.4, 18.0, 18.7, 19.0, 19.6, 20.0, \n",
        "     21.0, 21.0, 21.0, 21.3, 22.0, 22.0, 22.0, 22.0, 22.0, 22.5, \n",
        "     22.5, 22.7, 23.0, 23.5, 24.0, 24.0, 24.6, 25.0, 25.6, 26.5, \n",
        "     27.3, 27.5, 27.5, 27.5, 28.0, 28.7, 30.0, 32.8, 34.5, 35.0, \n",
        "     36.5, 36.0, 37.0, 37.0, 39.0, 39.0, 39.0, 40.0, 40.0, 40.0, \n",
        "     40.0, 42.0, 43.0, 43.0, 43.5, 44.0]\n",
        "     )\n",
        "perch_weight = np.array(\n",
        "    [5.9, 32.0, 40.0, 51.5, 70.0, 100.0, 78.0, 80.0, 85.0, 85.0, \n",
        "     110.0, 115.0, 125.0, 130.0, 120.0, 120.0, 130.0, 135.0, 110.0, \n",
        "     130.0, 150.0, 145.0, 150.0, 170.0, 225.0, 145.0, 188.0, 180.0, \n",
        "     197.0, 218.0, 300.0, 260.0, 265.0, 250.0, 250.0, 300.0, 320.0, \n",
        "     514.0, 556.0, 840.0, 685.0, 700.0, 700.0, 690.0, 900.0, 650.0, \n",
        "     820.0, 850.0, 900.0, 1015.0, 820.0, 1100.0, 1000.0, 1100.0, \n",
        "     1000.0, 1000.0]\n",
        "     )"
      ],
      "execution_count": 18,
      "outputs": []
    },
    {
      "cell_type": "code",
      "metadata": {
        "id": "MKRCul4NH57f"
      },
      "source": [
        "from sklearn.model_selection import train_test_split\n",
        "\n",
        "train_input, test_input, train_target, test_target = train_test_split(perch_length, perch_weight, random_state=42)\n",
        "\n",
        "train_input = train_input.reshape(-1,1)\n",
        "test_input = test_input.reshape(-1,1)"
      ],
      "execution_count": 19,
      "outputs": []
    },
    {
      "cell_type": "code",
      "metadata": {
        "colab": {
          "base_uri": "https://localhost:8080/"
        },
        "id": "cNFhBVYvIaxE",
        "outputId": "88abbe3a-b8a0-4da7-c941-2a5853d3804c"
      },
      "source": [
        "from sklearn.neighbors import KNeighborsRegressor\n",
        "\n",
        "knr = KNeighborsRegressor(n_neighbors=3)\n",
        "knr.fit(train_input, train_target)\n",
        "\n",
        "print(knr.predict([[50]])) # 길이가 50cm인 농어의 무게 예측 : 1033g BUT 실제는 더 나간다고한다! "
      ],
      "execution_count": 20,
      "outputs": [
        {
          "output_type": "stream",
          "text": [
            "[1033.33333333]\n"
          ],
          "name": "stdout"
        }
      ]
    },
    {
      "cell_type": "code",
      "metadata": {
        "colab": {
          "base_uri": "https://localhost:8080/",
          "height": 265
        },
        "id": "zfl6j8xPIr6x",
        "outputId": "83190531-94a8-4a25-ec9f-dbfc7f792447"
      },
      "source": [
        "import matplotlib.pyplot as plt\n",
        "\n",
        "# 50cm 농어의 이웃구하기\n",
        "distance, indexes = knr.kneighbors([[50]])\n",
        "\n",
        "# 훈련셋의 산점도 그리기\n",
        "plt.scatter(train_input, train_target)\n",
        "\n",
        "# 훈련셋 중에서 이웃샘플만 다시 그리기\n",
        "plt.scatter(train_input[indexes], train_target[indexes], marker='D')\n",
        "\n",
        "# 50cm 농어 데이터\n",
        "plt.scatter(50, 1033, marker='^')\n",
        "plt.show()\n",
        "\n",
        "# 결과) 길이가 커질수록 농어의 무게 증가하는 경향이 있다. 하지만 50cm 농어에서 가까운건 45cm근방!\n",
        "# K-NN의 한계) 새로운 샘플이 훈련셋의 범위를 벗어나면 엉뚱한 값을 예측! "
      ],
      "execution_count": 21,
      "outputs": [
        {
          "output_type": "display_data",
          "data": {
            "image/png": "[encoded data removed]",
            "text/plain": [
              "<Figure size 432x288 with 1 Axes>"
            ]
          },
          "metadata": {
            "tags": [],
            "needs_background": "light"
          }
        }
      ]
    },
    {
      "cell_type": "code",
      "metadata": {
        "colab": {
          "base_uri": "https://localhost:8080/"
        },
        "id": "B57vzg2uJASM",
        "outputId": "86303f8c-6b3d-4b26-8822-f9e17c457d30"
      },
      "source": [
        "# 이웃 샘플의 타깃의 평균\n",
        "print(np.mean(train_target[indexes]))"
      ],
      "execution_count": 22,
      "outputs": [
        {
          "output_type": "stream",
          "text": [
            "1033.3333333333333\n"
          ],
          "name": "stdout"
        }
      ]
    },
    {
      "cell_type": "code",
      "metadata": {
        "colab": {
          "base_uri": "https://localhost:8080/"
        },
        "id": "KvneJkl6QWoZ",
        "outputId": "d2d081d8-00e8-483c-a68c-0a99eb65d88e"
      },
      "source": [
        "# 농어가 100cm여도 45cm대의 무게의 평균을 반환한다\n",
        "print(knr.predict([[100]]))"
      ],
      "execution_count": 23,
      "outputs": [
        {
          "output_type": "stream",
          "text": [
            "[1033.33333333]\n"
          ],
          "name": "stdout"
        }
      ]
    },
    {
      "cell_type": "code",
      "metadata": {
        "colab": {
          "base_uri": "https://localhost:8080/",
          "height": 265
        },
        "id": "Vd1v7Gp1Q7QH",
        "outputId": "fe3cb97b-5cb5-40fe-ef11-b6e756025624"
      },
      "source": [
        "# 100cm의 농어들의 이웃을 구한다\n",
        "distance, indexes = knr.kneighbors([[100]])\n",
        "\n",
        "plt.scatter(train_input, train_target)\n",
        "plt.scatter(train_input[indexes], train_target[indexes], marker='D')\n",
        "\n",
        "plt.scatter(100, 1033, marker='^')\n",
        "plt.show()"
      ],
      "execution_count": 24,
      "outputs": [
        {
          "output_type": "display_data",
          "data": {
            "image/png": "[encoded data removed]",
            "text/plain": [
              "<Figure size 432x288 with 1 Axes>"
            ]
          },
          "metadata": {
            "tags": [],
            "needs_background": "light"
          }
        }
      ]
    },
    {
      "cell_type": "code",
      "metadata": {
        "id": "tX0XggB6RSpb"
      },
      "source": [
        "# 머신러닝 모델은 한 번 만들고 끝나는 프로그램이 아니다.\n",
        "# 시간과 환경이 변화면서 데이터도 바뀌기 때문에 주기적으로 새로운 훈련 데이터로 모델을 다시 훈련해야 한다."
      ],
      "execution_count": 25,
      "outputs": []
    },
    {
      "cell_type": "markdown",
      "metadata": {
        "id": "TcEaD8ubRo1Q"
      },
      "source": [
        "### 선형 회귀 Linear Regression  \n",
        "\n",
        "- 모델 기반 학습 : 최적의 모델 파라미터를 찾는 알고리즘 훈련과정 (선형 회귀 등)\n",
        "  - 모델 파라미터model parameter : 머신러닝 알고리즘이 찾은 값으로 기울기(=가중치weight, 계수coefficient)와 절편의 값\n",
        "    - 머신러닝에서 가중치는 기울기와 절편 모두를 의미하는 경우가 많다.\n",
        "- 사례 기반 학습 : 훈련세트를 저장하는게 훈련의 전부 (K-NN등)"
      ]
    },
    {
      "cell_type": "code",
      "metadata": {
        "colab": {
          "base_uri": "https://localhost:8080/"
        },
        "id": "omvxn1nkRnED",
        "outputId": "c608c4a3-1180-463f-bb62-a6003541d499"
      },
      "source": [
        "from sklearn.linear_model import LinearRegression\n",
        "lr = LinearRegression() # 이런 모델클래스를 '추정기estimator'라고 한다.\n",
        "\n",
        "# fit_intercept 매개변수를 True로 지정하면 절편을 학습하지 않는다. 디폴트 True\n",
        "\n",
        "# 선형 회귀 모델을 훈련\n",
        "lr.fit(train_input, train_target)\n",
        "\n",
        "print(lr.predict([[50]]))"
      ],
      "execution_count": 26,
      "outputs": [
        {
          "output_type": "stream",
          "text": [
            "[1241.83860323]\n"
          ],
          "name": "stdout"
        }
      ]
    },
    {
      "cell_type": "code",
      "metadata": {
        "colab": {
          "base_uri": "https://localhost:8080/"
        },
        "id": "5SSUYIjkSBJX",
        "outputId": "ca2e558a-9cfd-4b8d-879a-cc60a4565def"
      },
      "source": [
        "# lr.coef_ , lr.intercept_ : 모델 파라미터 model parameter\n",
        "# 학습된 모델의 coef_속성은 특성에 대한 계수를 포함한 배열이므로 이 배열의 크기 = 특성의 개수\n",
        "# 학습된 모델의 intercept_ 속성에는 절편이 저장되어 있다\n",
        "\n",
        "print(lr.coef_, lr.intercept_) # 계수, 절편"
      ],
      "execution_count": 27,
      "outputs": [
        {
          "output_type": "stream",
          "text": [
            "[39.01714496] -709.0186449535477\n"
          ],
          "name": "stdout"
        }
      ]
    },
    {
      "cell_type": "code",
      "metadata": {
        "colab": {
          "base_uri": "https://localhost:8080/",
          "height": 265
        },
        "id": "VYBoy597SPSw",
        "outputId": "4919e05b-0437-4bc1-a535-0e1af64578cf"
      },
      "source": [
        "# 훈련셋의 산점도\n",
        "plt.scatter(train_input, train_target)\n",
        "\n",
        "# 농어의 길이 15에서 50까지 1차 방정식 그래프 : (15, 15*39-709)와 (50, 50*39-709) 두 점 잇기\n",
        "plt.plot([15,50], [15*lr.coef_ + lr.intercept_, 50*lr.coef_+lr.intercept_])\n",
        "\n",
        "# 50cm 농어 데이터\n",
        "plt.scatter(50, 1241.8, marker='^')\n",
        "plt.show()"
      ],
      "execution_count": 28,
      "outputs": [
        {
          "output_type": "display_data",
          "data": {
            "image/png": "[encoded data removed]",
            "text/plain": [
              "<Figure size 432x288 with 1 Axes>"
            ]
          },
          "metadata": {
            "tags": [],
            "needs_background": "light"
          }
        }
      ]
    },
    {
      "cell_type": "code",
      "metadata": {
        "colab": {
          "base_uri": "https://localhost:8080/"
        },
        "id": "f0wLazUNUTGz",
        "outputId": "03cf5b34-f98d-40fb-9f00-5740fa6651f2"
      },
      "source": [
        "print(lr.score(train_input, train_target)) # 훈련셋 스코어\n",
        "print(lr.score(test_input, test_target)) # 테스트셋 스코어\n",
        "\n",
        "# 결과) 훈련셋스코어 > 테스트셋 스코어 : 과대적합? 하지만 훈련셋의 점수도 낮은 편이다 오히려 과소적합된걸지도?\n",
        "#      그래프를 보면 일진선이기보다 조금 구부러진 곡선이다. 따라서 최적의 직선보다는 최적의 곡선 모델이 더 적합할 수 있다."
      ],
      "execution_count": 29,
      "outputs": [
        {
          "output_type": "stream",
          "text": [
            "0.9398463339976039\n",
            "0.8247503123313558\n"
          ],
          "name": "stdout"
        }
      ]
    },
    {
      "cell_type": "markdown",
      "metadata": {
        "id": "5ppxQoniU2nq"
      },
      "source": [
        "### 다항 회귀 Polynomial Regression"
      ]
    },
    {
      "cell_type": "code",
      "metadata": {
        "colab": {
          "base_uri": "https://localhost:8080/"
        },
        "id": "btSV5S6iUgaw",
        "outputId": "fffb4e2f-2fdf-4e27-b022-0aabf9396d26"
      },
      "source": [
        "# 2차 방정식의 그래프 : 제곱항이 필요하다\n",
        "# 2차항을 다른 변수로 치환하면 선형회귀의 모습이기 때문에 선형 회귀로 취급해도 무관\n",
        "\n",
        "# 목표하는 값은 어떤 그래프를 훈련하든지 바꿀 필요가 없다. 특성값만 변경.\n",
        " \n",
        "# 원래 특성인 길이를 제곱하여 왼쪽 열에 추가 -> 열이 두개로 늘어남\n",
        "train_poly = np.column_stack((train_input**2, train_input)) # 넘파이 브로드캐스팅 적용됨\n",
        "test_poly = np.column_stack((test_input**2, test_input))\n",
        "\n",
        "print(train_poly.shape, test_poly.shape)"
      ],
      "execution_count": 30,
      "outputs": [
        {
          "output_type": "stream",
          "text": [
            "(42, 2) (14, 2)\n"
          ],
          "name": "stdout"
        }
      ]
    },
    {
      "cell_type": "code",
      "metadata": {
        "colab": {
          "base_uri": "https://localhost:8080/"
        },
        "id": "gmwVtSyaVuMN",
        "outputId": "f4c681cf-b141-4761-e44b-b71a19d1aa5b"
      },
      "source": [
        "lr = LinearRegression()\n",
        "\n",
        "lr.fit(train_poly, train_target)\n",
        "\n",
        "print(lr.predict([[50**2, 50]]))"
      ],
      "execution_count": 31,
      "outputs": [
        {
          "output_type": "stream",
          "text": [
            "[1573.98423528]\n"
          ],
          "name": "stdout"
        }
      ]
    },
    {
      "cell_type": "code",
      "metadata": {
        "colab": {
          "base_uri": "https://localhost:8080/"
        },
        "id": "UKMCqHqEdfyY",
        "outputId": "9e41a74f-f212-48d8-a6bc-630d9c1db503"
      },
      "source": [
        "print(lr.coef_, lr.intercept_)\n",
        "# 결과) 다항 회귀 모델 : 무게 = 1.01*길이^2 - 21.6*길이 + 116.05"
      ],
      "execution_count": 32,
      "outputs": [
        {
          "output_type": "stream",
          "text": [
            "[  1.01433211 -21.55792498] 116.05021078278276\n"
          ],
          "name": "stdout"
        }
      ]
    },
    {
      "cell_type": "code",
      "metadata": {
        "colab": {
          "base_uri": "https://localhost:8080/",
          "height": 265
        },
        "id": "zZCNSNWHdjjT",
        "outputId": "cf6e90e8-ed51-42c2-a19c-bad13df8005f"
      },
      "source": [
        "# 구간별 직선을 그리기 위해서 15에서 49까지 정수 배열을 마든다.\n",
        "point = np.arange(15,50)\n",
        "\n",
        "# 훈련셋의 산점도\n",
        "plt.scatter(train_input, train_target)\n",
        "\n",
        "# 15에서 49까지 2차 방정식의 그래프를 그린다\n",
        "plt.plot(point, 1.01*point**2 - 21.6*point + 116.05)\n",
        "\n",
        "# 50cm 농어 데이터\n",
        "plt.scatter([50], [1574], marker='^')\n",
        "plt.show()"
      ],
      "execution_count": 33,
      "outputs": [
        {
          "output_type": "display_data",
          "data": {
            "image/png": "[encoded data removed]",
            "text/plain": [
              "<Figure size 432x288 with 1 Axes>"
            ]
          },
          "metadata": {
            "tags": [],
            "needs_background": "light"
          }
        }
      ]
    },
    {
      "cell_type": "code",
      "metadata": {
        "colab": {
          "base_uri": "https://localhost:8080/"
        },
        "id": "4N-rwoxujUAr",
        "outputId": "25672c3f-a91c-4fbc-d9e5-4ce84c2af705"
      },
      "source": [
        "# 모델 평가\n",
        "print(lr.score(train_poly, train_target))\n",
        "print(lr.score(test_poly, test_target))\n",
        "# 결과) 훈련셋결과 < 테스트셋결과 -> 과소적합이 남아있음"
      ],
      "execution_count": 34,
      "outputs": [
        {
          "output_type": "stream",
          "text": [
            "0.9706807451768623\n",
            "0.9775935108325122\n"
          ],
          "name": "stdout"
        }
      ]
    },
    {
      "cell_type": "markdown",
      "metadata": {
        "id": "ObYTRGv3lgMA"
      },
      "source": [
        "### 다중 회귀 Multiple Regression\n",
        "여러 개의 특성을 사용한 선형 회귀\n",
        "\n",
        "cf. 특성 공학feature engineering : 기존의 특성을 사용해 새로운 특성을 뽑아내는 작업  \n",
        "\n",
        "- 판다스Pandas : 데이터 분석 라이브러리"
      ]
    },
    {
      "cell_type": "code",
      "metadata": {
        "colab": {
          "base_uri": "https://localhost:8080/"
        },
        "id": "r0sAr4L6jgzg",
        "outputId": "d3baa864-58cb-42db-df24-de067baa441b"
      },
      "source": [
        "# 농어 데이터 받아오기 (length, height, width)\n",
        "import pandas as pd\n",
        "df = pd.read_csv('https://bit.ly/perch_csv') # 데이터 프레임 생성\n",
        "\n",
        "# df.to_numpy() : 데이터 프레임을 넘파일배열로 \n",
        "perch_full = df.to_numpy() \n",
        "print(perch_full)"
      ],
      "execution_count": 35,
      "outputs": [
        {
          "output_type": "stream",
          "text": [
            "[[ 8.4   2.11  1.41]\n",
            " [13.7   3.53  2.  ]\n",
            " [15.    3.82  2.43]\n",
            " [16.2   4.59  2.63]\n",
            " [17.4   4.59  2.94]\n",
            " [18.    5.22  3.32]\n",
            " [18.7   5.2   3.12]\n",
            " [19.    5.64  3.05]\n",
            " [19.6   5.14  3.04]\n",
            " [20.    5.08  2.77]\n",
            " [21.    5.69  3.56]\n",
            " [21.    5.92  3.31]\n",
            " [21.    5.69  3.67]\n",
            " [21.3   6.38  3.53]\n",
            " [22.    6.11  3.41]\n",
            " [22.    5.64  3.52]\n",
            " [22.    6.11  3.52]\n",
            " [22.    5.88  3.52]\n",
            " [22.    5.52  4.  ]\n",
            " [22.5   5.86  3.62]\n",
            " [22.5   6.79  3.62]\n",
            " [22.7   5.95  3.63]\n",
            " [23.    5.22  3.63]\n",
            " [23.5   6.28  3.72]\n",
            " [24.    7.29  3.72]\n",
            " [24.    6.38  3.82]\n",
            " [24.6   6.73  4.17]\n",
            " [25.    6.44  3.68]\n",
            " [25.6   6.56  4.24]\n",
            " [26.5   7.17  4.14]\n",
            " [27.3   8.32  5.14]\n",
            " [27.5   7.17  4.34]\n",
            " [27.5   7.05  4.34]\n",
            " [27.5   7.28  4.57]\n",
            " [28.    7.82  4.2 ]\n",
            " [28.7   7.59  4.64]\n",
            " [30.    7.62  4.77]\n",
            " [32.8  10.03  6.02]\n",
            " [34.5  10.26  6.39]\n",
            " [35.   11.49  7.8 ]\n",
            " [36.5  10.88  6.86]\n",
            " [36.   10.61  6.74]\n",
            " [37.   10.84  6.26]\n",
            " [37.   10.57  6.37]\n",
            " [39.   11.14  7.49]\n",
            " [39.   11.14  6.  ]\n",
            " [39.   12.43  7.35]\n",
            " [40.   11.93  7.11]\n",
            " [40.   11.73  7.22]\n",
            " [40.   12.38  7.46]\n",
            " [40.   11.14  6.63]\n",
            " [42.   12.8   6.87]\n",
            " [43.   11.93  7.28]\n",
            " [43.   12.51  7.42]\n",
            " [43.5  12.6   8.14]\n",
            " [44.   12.49  7.6 ]]\n"
          ],
          "name": "stdout"
        }
      ]
    },
    {
      "cell_type": "code",
      "metadata": {
        "id": "RJzzc9_Ul4yp"
      },
      "source": [
        "# 타깃(weight) 데이터는 이전 데이터 사용\n",
        "perch_weight = np.array(\n",
        "    [5.9, 32.0, 40.0, 51.5, 70.0, 100.0, 78.0, 80.0, 85.0, 85.0, \n",
        "     110.0, 115.0, 125.0, 130.0, 120.0, 120.0, 130.0, 135.0, 110.0, \n",
        "     130.0, 150.0, 145.0, 150.0, 170.0, 225.0, 145.0, 188.0, 180.0, \n",
        "     197.0, 218.0, 300.0, 260.0, 265.0, 250.0, 250.0, 300.0, 320.0, \n",
        "     514.0, 556.0, 840.0, 685.0, 700.0, 700.0, 690.0, 900.0, 650.0, \n",
        "     820.0, 850.0, 900.0, 1015.0, 820.0, 1100.0, 1000.0, 1100.0, \n",
        "     1000.0, 1000.0]\n",
        ")"
      ],
      "execution_count": 36,
      "outputs": []
    },
    {
      "cell_type": "code",
      "metadata": {
        "id": "6dsjhFSEnJ3G"
      },
      "source": [
        "from sklearn.model_selection import train_test_split\n",
        "train_input, test_input, train_target, test_target = train_test_split(perch_full, perch_weight, random_state=42)"
      ],
      "execution_count": 37,
      "outputs": []
    },
    {
      "cell_type": "code",
      "metadata": {
        "id": "LI6aMHM6nWk1"
      },
      "source": [
        "# 변환기transformer : 사이킷런에서 특성을 만들거나 전처리하기 위한 다양한 클래스\n",
        "from sklearn.preprocessing import PolynomialFeatures"
      ],
      "execution_count": 38,
      "outputs": []
    },
    {
      "cell_type": "code",
      "metadata": {
        "colab": {
          "base_uri": "https://localhost:8080/"
        },
        "id": "QSagHiiboR1u",
        "outputId": "2a978afe-1f4f-46a2-e4ed-19aad5e82f19"
      },
      "source": [
        "\"\"\"\n",
        "PolynomialFeatures 클래스 : 각 특성을 제곱한 항을 추가하고 특성끼리 서로 곱한 항을 추가한다.\n",
        "2, 3 -> 4, 9 (각각 제곱한 값), 6(둘을 곱한 값), 1(선형방정식의 절편을 항상 값이 1인 특성과 곱해지는 계수라고 본다)\n",
        "# degree = K : 디폴트가 2\n",
        "# interaction_only = True이면 거듭제곱항을 제외, 특성간의 곱셈 항만 추가된다. (False가 디폴트)\n",
        "# include_bias = False로 지정해줄 것 (True가 디폴트) \n",
        "# 사실 사이킷런 모델은 자동으로 특성에 추가된 절편항 무시하지만 혼돈을 피하기 위해 지정\n",
        "\n",
        "# fit() : 새롭게 만들 특성 조합을 찾기\n",
        "# transform()는 실제로 데이터를 변환. fit()으로 훈련을 해야지만 transform()할 수 있다.\n",
        "\"\"\"\n",
        "\n",
        "poly = PolynomialFeatures() \n",
        "poly.fit([[2,3]])\n",
        "print(poly.transform([[2,3]]))\n"
      ],
      "execution_count": 39,
      "outputs": [
        {
          "output_type": "stream",
          "text": [
            "[[1. 2. 3. 4. 6. 9.]]\n"
          ],
          "name": "stdout"
        }
      ]
    },
    {
      "cell_type": "code",
      "metadata": {
        "colab": {
          "base_uri": "https://localhost:8080/"
        },
        "id": "8I4lC1ptoqxt",
        "outputId": "0a7556a2-8d73-4a24-b729-4cd6bcc94f14"
      },
      "source": [
        "# 다만, 사이킷런의 선형모델은 자동으로 절편을 추가하므로 만들 필요가 없다\n",
        "poly = PolynomialFeatures(include_bias=False)\n",
        "poly.fit([[2,3]])\n",
        "print(poly.transform(([[2,3]])))"
      ],
      "execution_count": 40,
      "outputs": [
        {
          "output_type": "stream",
          "text": [
            "[[2. 3. 4. 6. 9.]]\n"
          ],
          "name": "stdout"
        }
      ]
    },
    {
      "cell_type": "code",
      "metadata": {
        "colab": {
          "base_uri": "https://localhost:8080/"
        },
        "id": "MNO4Fs_Uq2Jk",
        "outputId": "61a9fad4-bbcc-46c9-c7da-bc099bfeb2b7"
      },
      "source": [
        "poly = PolynomialFeatures(include_bias=False)\n",
        "poly.fit(train_input)\n",
        "train_poly = poly.transform(train_input)\n",
        "print(train_poly.shape)"
      ],
      "execution_count": 41,
      "outputs": [
        {
          "output_type": "stream",
          "text": [
            "(42, 9)\n"
          ],
          "name": "stdout"
        }
      ]
    },
    {
      "cell_type": "code",
      "metadata": {
        "colab": {
          "base_uri": "https://localhost:8080/"
        },
        "id": "L1JFEJyYrXUt",
        "outputId": "597452f0-bfa9-4d5b-fde8-12ae1b48e64e"
      },
      "source": [
        "# poly.get_feature_names() : 각 poly객체의 특성들이 각각 어떤 입력의 조합으로 만들어줬는지 보여줌\n",
        "poly.get_feature_names()\n",
        "\n",
        "# 결과) x0 : 첫번째 특성을 의미"
      ],
      "execution_count": 42,
      "outputs": [
        {
          "output_type": "execute_result",
          "data": {
            "text/plain": [
              "['x0', 'x1', 'x2', 'x0^2', 'x0 x1', 'x0 x2', 'x1^2', 'x1 x2', 'x2^2']"
            ]
          },
          "metadata": {
            "tags": []
          },
          "execution_count": 42
        }
      ]
    },
    {
      "cell_type": "code",
      "metadata": {
        "id": "GMWmolNmrnDS"
      },
      "source": [
        "# poly.fit(train_input) : 훈련은 훈련데이터셋으로 하고, 테스트셋을 그걸로 변환 ~ 항상 훈련셋을 기준으로 테스트셋 변환\n",
        "test_poly = poly.transform(test_input)"
      ],
      "execution_count": 43,
      "outputs": []
    },
    {
      "cell_type": "code",
      "metadata": {
        "colab": {
          "base_uri": "https://localhost:8080/"
        },
        "id": "pifF5gfpsN8G",
        "outputId": "95c2da8f-bce2-4a68-a79d-078df20e25eb"
      },
      "source": [
        "# 다중 회귀 모델 훈련하기\n",
        "from sklearn.linear_model import LinearRegression\n",
        "lr = LinearRegression()\n",
        "lr.fit(train_poly, train_target)\n",
        "\n",
        "print(lr.score(train_poly, train_target))\n",
        "print(lr.score(test_poly, test_target))\n",
        "# 결과) 과소적합 문제 해결"
      ],
      "execution_count": 44,
      "outputs": [
        {
          "output_type": "stream",
          "text": [
            "0.9903183436982124\n",
            "0.9714559911594132\n"
          ],
          "name": "stdout"
        }
      ]
    },
    {
      "cell_type": "code",
      "metadata": {
        "colab": {
          "base_uri": "https://localhost:8080/"
        },
        "id": "s6bFJBQWswMJ",
        "outputId": "44820a0d-b10f-4b5f-c220-f041e9e66296"
      },
      "source": [
        "# PolynomialFeatures 클래스의 degree 매개변수를 이용 필요한 고차항의 최대 차수 지정가능\n",
        "poly = PolynomialFeatures(degree=5, include_bias=False)\n",
        "poly.fit(train_input)\n",
        "train_poly = poly.transform(train_input)\n",
        "test_poly = poly.transform(test_input)\n",
        "print(train_poly.shape)"
      ],
      "execution_count": 45,
      "outputs": [
        {
          "output_type": "stream",
          "text": [
            "(42, 55)\n"
          ],
          "name": "stdout"
        }
      ]
    },
    {
      "cell_type": "code",
      "metadata": {
        "colab": {
          "base_uri": "https://localhost:8080/"
        },
        "id": "bNMVjUOVtgqP",
        "outputId": "e4a5c482-7b31-48ab-e40a-f364087400da"
      },
      "source": [
        "lr.fit(train_poly, train_target)\n",
        "print(lr.score(train_poly, train_target))\n",
        "print(lr.score(test_poly, test_target))\n",
        "# 결과) 과대적합 : 특성의 개수를 크게 늘리면 훈련셋에 대해선 완벽한 학습모델이 되지만, 과대적합으로 실제로는 쓸모없는 모델이 된다."
      ],
      "execution_count": 46,
      "outputs": [
        {
          "output_type": "stream",
          "text": [
            "0.9999999999991096\n",
            "-144.40579242335605\n"
          ],
          "name": "stdout"
        }
      ]
    },
    {
      "cell_type": "code",
      "metadata": {
        "id": "agr0kzw2tweG"
      },
      "source": [
        "# 규제Regularization : 머신러닝 모델이 훈련셋을 과도하게 학습하지 못하도록 훼방하는 것 = 과대적합을 막는 것\n",
        "# 사전 과제 : 특성의 스케일의 정규 (평균과 표준편차를 직접구해서 특성을 표준점수로 바꾸기 등)\n",
        "\n",
        "from sklearn.preprocessing import StandardScaler\n",
        "\n",
        "ss = StandardScaler()\n",
        "ss.fit(train_poly)\n",
        "# 훈련셋에서 학습한 평균과 표준편차는 StandardScaler 클래스 객체의 mean_, scale_속성에 저장된다.\n",
        "\n",
        "train_scaled = ss.transform(train_poly)\n",
        "test_scaled = ss.transform(test_poly)"
      ],
      "execution_count": 47,
      "outputs": []
    },
    {
      "cell_type": "markdown",
      "metadata": {
        "id": "j82wFyOMxPfU"
      },
      "source": [
        "### 릿지 회귀 Lidge Regression\n",
        "선형 회귀 모형에서 계수를 제곱한 값을 기준으로 규제를 적용한 모델.  \n",
        "- 축소방법shrinkage method 중 하나로, 모형에 분산을 줄여주는 효과를 가져온다\n",
        "\n",
        "- 새로운 설명 변수를 추가함에 있어서 과적합을 방지하기 위해 OLS(Ordinary Least Square:최소제곱법) 또는 MLE(Maximum likelihood estimation:최대우도추정)를 이용한 계수추정치를 찾는 과정에서 패널티 항으로 L2-norm을 부여하는 방법=규제.  \n",
        "- 계수의 크기를 줄이지만 라쏘처럼 아예 0으로 만들순 없다."
      ]
    },
    {
      "cell_type": "code",
      "metadata": {
        "colab": {
          "base_uri": "https://localhost:8080/"
        },
        "id": "I-QPgd3mxo3m",
        "outputId": "f0d7b1d2-e3fc-4768-bf83-404fd257c499"
      },
      "source": [
        "from sklearn.linear_model import Ridge\n",
        "ridge = Ridge() \n",
        "'''\n",
        "# alpha 매개변수로 규제의 강도 조절가능 (디폴트=1)\n",
        "  -> alpha가 크면 규제강도가 세지므로 계수값이 줄어들어 과소적합을 유도\n",
        "  # 하이퍼파라미터hyperparameter: 머신러닝 모델이 학습할 수 없고 사람이 알려줘야 하는 파라미터. \n",
        "# solver 매개변수에 최적의 모델을 찾기 위한 방법 지정 가능 (디폴트=auto)\n",
        "# sag()와 이의 개선버전인 saga()는 확률적 평균 경사하강법 알고리즘으로 특성과 샘플 수가 많을 때 성능이 빠르고 좋다.\n",
        "  # 사용시 random_state= 지정가능\n",
        "'''\n",
        "\n",
        "ridge.fit(train_scaled, train_target)\n",
        "print(ridge.score(train_scaled, train_target))\n",
        "print(ridge.score(test_scaled, test_target))\n",
        "# 결과) 많은 특성을 사용했음에도 과대적합되지 않아 테스트셋에도 좋은 성능을 보임"
      ],
      "execution_count": 48,
      "outputs": [
        {
          "output_type": "stream",
          "text": [
            "0.9896101671037343\n",
            "0.9790693977615398\n"
          ],
          "name": "stdout"
        }
      ]
    },
    {
      "cell_type": "code",
      "metadata": {
        "id": "PaAmj9xoxo8V",
        "colab": {
          "base_uri": "https://localhost:8080/",
          "height": 265
        },
        "outputId": "5140be5d-a729-4dd9-9ce9-98fbea5122f9"
      },
      "source": [
        "# 적절한 alpha 값을 찾는 한 가지 방법은 alpha 값에 대한 R^2값의 그래프를 그려보는 것\n",
        "# -> 훈련셋과 테스트셋의 점수가 가장 가까운 지점이 최적의 alpha값이 된다.\n",
        "\n",
        "import matplotlib.pyplot as plt\n",
        "\n",
        "# alpha 값을 바꿀 때마다 score() 메서드의 결과를 저장할 리스트 \n",
        "train_score = []\n",
        "test_score = []\n",
        "\n",
        "alpha_list = [0.001, 0.01, 0.1, 1, 10, 100]\n",
        "for alpha in alpha_list:\n",
        "  # 릿지 모델을 생성\n",
        "  ridge = Ridge(alpha=alpha)\n",
        "  # 릿지 모델을 훈련\n",
        "  ridge.fit(train_scaled, train_target)\n",
        "  # 훈련 점수와 테스트 점수를 저장\n",
        "  train_score.append(ridge.score(train_scaled, train_target))\n",
        "  test_score.append(ridge.score(test_scaled, test_target))\n",
        "\n",
        "# alpha_list에 있는 6개의 값을 동일한 간격으로 나타내기 위해서 로그함수로 바꾸어 지수로 표현\n",
        "# np.log() : 자연상수 e를 밑으로 하는 자연로그\n",
        "# np.log10() : 10을 밑으로 하는 상용로그\n",
        "plt.plot(np.log10(alpha_list), train_score, color='blue')\n",
        "plt.plot(np.log10(alpha_list), test_score, color='orange')\n",
        "plt.show()\n",
        "\n",
        "# 결과) 두 그래프가 가장 가깝고 테스트셋의 점수가 가장높은 -1, \n",
        "#      본래의 값으로 변환하면 즉, 10^(-1) = -0.1이 적절한 alpha값이 된다"
      ],
      "execution_count": 55,
      "outputs": [
        {
          "output_type": "display_data",
          "data": {
            "image/png": "[encoded data removed]",
            "text/plain": [
              "<Figure size 432x288 with 1 Axes>"
            ]
          },
          "metadata": {
            "tags": [],
            "needs_background": "light"
          }
        }
      ]
    },
    {
      "cell_type": "code",
      "metadata": {
        "id": "r-8gvBHCxmhN",
        "colab": {
          "base_uri": "https://localhost:8080/"
        },
        "outputId": "a8a586c0-ddab-4ba8-a31a-f7561ba5bfac"
      },
      "source": [
        "# 최종모델 작성 with alpha = .1\n",
        "ridge = Ridge(alpha=0.1)\n",
        "ridge.fit(train_scaled, train_target)\n",
        "print(ridge.score(train_scaled, train_target))\n",
        "print(ridge.score(test_scaled, test_target))\n",
        "# 결과) 훈련셋과 테스트셋의 점수가 비슷하게 높고, 과소적합과 과대적합사이에서 균형을 이르고 있다 -> Good!"
      ],
      "execution_count": 57,
      "outputs": [
        {
          "output_type": "stream",
          "text": [
            "0.9903815817570366\n",
            "0.9827976465386927\n"
          ],
          "name": "stdout"
        }
      ]
    },
    {
      "cell_type": "markdown",
      "metadata": {
        "id": "Ts6VsMWLk2PT"
      },
      "source": [
        "### 라쏘 회귀 Lasso Regression\n",
        "OLS혹은 MLE를 이용한 계수추정치를 찾는 과정에서 penalty를 L1-norm으로 부여한 회귀\n",
        "\n",
        "- 제한함수의 차이로 인하여 라쏘모형은 계수추정치가 수축됨에 있어 0이 될 수 있어 변수선택의 효과도 가지지만 , 능형회귀 모형은 계수추정치가 수축됨에 있어 0으로 만들지 않는다"
      ]
    },
    {
      "cell_type": "code",
      "metadata": {
        "colab": {
          "base_uri": "https://localhost:8080/"
        },
        "id": "DZPlvQ-9kgW2",
        "outputId": "41f6b2d9-33bb-47c2-d191-26f3c37eddb9"
      },
      "source": [
        "from sklearn.linear_model import Lasso\n",
        "lasso = Lasso()\n",
        "# Lasso() 클래스는 최적의 모델을 찾기 위해 좌표축을 따라 최적화를 수행하는 좌표하강법coordinate descent를 사용\n",
        "\n",
        "lasso.fit(train_scaled, train_target)\n",
        "print(lasso.score(train_scaled, train_target))\n",
        "print(lasso.score(test_scaled, test_target))\n",
        "# 결과) 훈련셋 스코어 > 테스트셋스코어 + 매우 좋은 점수 "
      ],
      "execution_count": 58,
      "outputs": [
        {
          "output_type": "stream",
          "text": [
            "0.9897898972080961\n",
            "0.9800593698421883\n"
          ],
          "name": "stdout"
        }
      ]
    },
    {
      "cell_type": "code",
      "metadata": {
        "colab": {
          "base_uri": "https://localhost:8080/",
          "height": 370
        },
        "id": "wlakhlTlluAD",
        "outputId": "44ea0160-cea6-42d0-f843-3648a014a9d2"
      },
      "source": [
        "# 최적의 alpha찾기\n",
        "train_score = []\n",
        "test_score = []\n",
        "alpha_list = [0.001, 0.01, 0.1, 1, 10, 100]\n",
        "for alpha in alpha_list:\n",
        "  lasso = Lasso(alpha=alpha, max_iter=10000)\n",
        "  # The max_iter value is to limit the number of cycles we're willing to run. \n",
        "  # 사이킷런의 라쏘모델은 최적의 계수를 찾기 위해 반복적인 계산을 한다. 반복횟수를 충분히 늘리기 위해서 max_iter 매개변수 값을 10000으로 지정\n",
        "  \n",
        "  lasso.fit(train_scaled, train_target)\n",
        "  train_score.append(lasso.score(train_scaled, train_target))\n",
        "  test_score.append(lasso.score(test_scaled, test_target))\n",
        "\n",
        "plt.plot(np.log10(alpha_list), train_score, color='blue')\n",
        "plt.plot(np.log10(alpha_list), test_score, color='orange')\n",
        "\n",
        "# 결과) 훈련 데이터에 과대적합 -> 적정(1) -> 과소적합(테스트셋 점수 > 훈련셋 점수) "
      ],
      "execution_count": 61,
      "outputs": [
        {
          "output_type": "stream",
          "text": [
            "/usr/local/lib/python3.6/dist-packages/sklearn/linear_model/_coordinate_descent.py:476: ConvergenceWarning: Objective did not converge. You might want to increase the number of iterations. Duality gap: 18778.697957792876, tolerance: 518.2793833333334\n",
            "  positive)\n",
            "/usr/local/lib/python3.6/dist-packages/sklearn/linear_model/_coordinate_descent.py:476: ConvergenceWarning: Objective did not converge. You might want to increase the number of iterations. Duality gap: 12972.821345404844, tolerance: 518.2793833333334\n",
            "  positive)\n"
          ],
          "name": "stderr"
        },
        {
          "output_type": "execute_result",
          "data": {
            "text/plain": [
              "[<matplotlib.lines.Line2D at 0x7fede496c9b0>]"
            ]
          },
          "metadata": {
            "tags": []
          },
          "execution_count": 61
        },
        {
          "output_type": "display_data",
          "data": {
            "image/png": "[encoded data removed]",
            "text/plain": [
              "<Figure size 432x288 with 1 Axes>"
            ]
          },
          "metadata": {
            "tags": [],
            "needs_background": "light"
          }
        }
      ]
    },
    {
      "cell_type": "code",
      "metadata": {
        "colab": {
          "base_uri": "https://localhost:8080/"
        },
        "id": "w0t_vxQDrCMZ",
        "outputId": "912863c7-cc26-4cdf-90eb-477196a50c78"
      },
      "source": [
        "lasso = Lasso(alpha=10)\n",
        "lasso.fit(train_scaled, train_target)\n",
        "print(lasso.score(train_scaled, train_target))\n",
        "print(lasso.score(test_scaled, test_target))"
      ],
      "execution_count": 62,
      "outputs": [
        {
          "output_type": "stream",
          "text": [
            "0.9888067471131867\n",
            "0.9824470598706695\n"
          ],
          "name": "stdout"
        }
      ]
    },
    {
      "cell_type": "code",
      "metadata": {
        "colab": {
          "base_uri": "https://localhost:8080/"
        },
        "id": "PgjT6Hvnr9hG",
        "outputId": "af144b19-064d-4247-a3a6-9adad4b6eabc"
      },
      "source": [
        "# 라쏘 모델은 계수값을 아예 0으로 만들수 있다 -> 특성을 골라내는 용도로도 사용가능\n",
        "print(np.sum(lasso.coef_==0)) \n",
        "# 결과) 40 : 55개의 특성을 모델에 주입했지만, 라쏘 모델에 사용한 특성은 55-40=15개뿐!\n",
        "\n",
        "# np.sum() : 배열을 모두 더한 값\n",
        "# 넘파이 배열에 비교연산자 사용시 True : 1, False :0로 인식하여 연산"
      ],
      "execution_count": 63,
      "outputs": [
        {
          "output_type": "stream",
          "text": [
            "40\n"
          ],
          "name": "stdout"
        }
      ]
    },
    {
      "cell_type": "code",
      "metadata": {
        "id": "nedH-vqosnV0"
      },
      "source": [
        ""
      ],
      "execution_count": null,
      "outputs": []
    }
  ]
}